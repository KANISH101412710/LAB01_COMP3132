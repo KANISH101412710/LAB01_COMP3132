{
  "cells": [
    {
      "cell_type": "markdown",
      "metadata": {
        "id": "nDnqzTg8PEvr"
      },
      "source": [
        "# Lab Week 3: The mathematical building blocks of neural networks"
      ]
    },
    {
      "cell_type": "markdown",
      "metadata": {
        "id": "YEge0pcbOiiV"
      },
      "source": [
        "This lab is based on the materials of the second chapter the course text book [Deep Learning with Python, Second Edition](https://www.manning.com/books/deep-learning-with-python-second-edition?a_aid=keras&a_bid=76564dff) (See D2l -> Course Information -> Text Book.)"
      ]
    },
    {
      "cell_type": "markdown",
      "metadata": {
        "id": "v-sXL1loQE5M"
      },
      "source": [
        "# Imports"
      ]
    },
    {
      "cell_type": "code",
      "execution_count": 1,
      "metadata": {
        "id": "_s8XixgsQFQG"
      },
      "outputs": [],
      "source": [
        "import numpy as np\n",
        "import matplotlib.pyplot as plt\n",
        "import seaborn as sns"
      ]
    },
    {
      "cell_type": "markdown",
      "metadata": {
        "id": "ZgkrwcVVOiiY"
      },
      "source": [
        "# Loading the MNIST dataset in Keras"
      ]
    },
    {
      "cell_type": "code",
      "execution_count": 2,
      "metadata": {
        "colab": {
          "base_uri": "https://localhost:8080/"
        },
        "id": "ff8ToQGiOiiZ",
        "outputId": "38f86437-dcec-4342-e233-89594ad365ba"
      },
      "outputs": [
        {
          "output_type": "stream",
          "name": "stdout",
          "text": [
            "Downloading data from https://storage.googleapis.com/tensorflow/tf-keras-datasets/mnist.npz\n",
            "\u001b[1m11490434/11490434\u001b[0m \u001b[32m━━━━━━━━━━━━━━━━━━━━\u001b[0m\u001b[37m\u001b[0m \u001b[1m0s\u001b[0m 0us/step\n"
          ]
        }
      ],
      "source": [
        "from tensorflow.keras.datasets import mnist\n",
        "(train_images_orig, train_labels), (test_images_orig, test_labels) = mnist.load_data()"
      ]
    },
    {
      "cell_type": "code",
      "execution_count": 3,
      "metadata": {
        "colab": {
          "base_uri": "https://localhost:8080/"
        },
        "id": "c3HfBsoAOiiZ",
        "outputId": "858943b5-8959-4c03-cfa4-4335ef655342"
      },
      "outputs": [
        {
          "output_type": "execute_result",
          "data": {
            "text/plain": [
              "(60000, 28, 28)"
            ]
          },
          "metadata": {},
          "execution_count": 3
        }
      ],
      "source": [
        "train_images_orig.shape # the shape is (b, w, h)"
      ]
    },
    {
      "cell_type": "code",
      "execution_count": 4,
      "metadata": {
        "colab": {
          "base_uri": "https://localhost:8080/"
        },
        "id": "zL8NazN2tw1i",
        "outputId": "6a058329-9be6-479d-f413-0c8df7cde91c"
      },
      "outputs": [
        {
          "output_type": "execute_result",
          "data": {
            "text/plain": [
              "3"
            ]
          },
          "metadata": {},
          "execution_count": 4
        }
      ],
      "source": [
        "train_images_orig.ndim"
      ]
    },
    {
      "cell_type": "markdown",
      "metadata": {
        "id": "eb7ucsx5YZXK"
      },
      "source": [
        "## The shape of image data\n",
        "\n",
        "**Note:** For black-and-white images, the number of channels equals 1, so it is not explicitly mentioned in the data.\n",
        "\n",
        "- color images shape: (samples_n, channel_n, hight, width)\n",
        "- gray images shape: (sample_n, hight, width)\n",
        "\n",
        "\n",
        "![](https://raw.githubusercontent.com/PyDataGBC/PyML2025/refs/heads/main/LabWeek3/assets/image_data.png)"
      ]
    },
    {
      "cell_type": "markdown",
      "metadata": {
        "id": "1wwMR95md_S1"
      },
      "source": [
        "## Exploring the dataset"
      ]
    },
    {
      "cell_type": "code",
      "execution_count": 7,
      "metadata": {
        "colab": {
          "base_uri": "https://localhost:8080/",
          "height": 1000
        },
        "id": "XsnT7peEPdll",
        "outputId": "9ea4a879-ef4b-451c-9289-c9406c52c76c"
      },
      "outputs": [
        {
          "output_type": "stream",
          "name": "stdout",
          "text": [
            "sample image shape:  (28, 28)\n",
            "sample image data type:  <class 'numpy.ndarray'>\n",
            "====================================================================================================\n",
            "printing the numerical value of a sample image\n",
            "[[  0   0   0   0   0   0   0   0   0   0   0   0   0   0   0   0   0   0\n",
            "    0   0   0   0   0   0   0   0   0   0]\n",
            " [  0   0   0   0   0   0   0   0   0   0   0   0   0   0   0   0   0   0\n",
            "    0   0   0   0   0   0   0   0   0   0]\n",
            " [  0   0   0   0   0   0   0   0   0   0   0   0   0   0   0   0   0   0\n",
            "    0   0   0   0   0   0   0   0   0   0]\n",
            " [  0   0   0   0   0   0   0   0   0   0   0   0   0   0   0   0   0   0\n",
            "    0   0   0   0   0   0   0   0   0   0]\n",
            " [  0   0   0   0   0   0   0   0   0   0   0   0   0   0   0   0   0   0\n",
            "    0   0   0   0   0   0   0   0   0   0]\n",
            " [  0   0   0   0   0   0   0   0   0   0   0   0   0   0   0   0   0   0\n",
            "    0   0   0   0   0   0   0   0   0   0]\n",
            " [  0   0   0   0   0   0   0   0   0   0   0   0   0   0   0   0   0   0\n",
            "    0   0   0  14  25 102  38   0   0   0]\n",
            " [  0   0   0   0   0   0   0   0   0   0   0   0   0   0  11   0  13  95\n",
            "  116 128 197 228 254 254 180   0   0   0]\n",
            " [  0   0   0   0   0   0   0   0   0   0   0  10 116 147 221 206 224 254\n",
            "  254 254 254 254 254 228 144   0   0   0]\n",
            " [  0   0   0   0   0   0   0   0   0   0  42 212 254 254 254 255 250 204\n",
            "  204 164 123 123  75  16   0   0   0   0]\n",
            " [  0   0   0   0   0   0   0   0   0  10 185 254 239  96  33  33  31   0\n",
            "    0   0   0   0   0   0   0   0   0   0]\n",
            " [  0   0   0   0   0   0   0   0   0   4 169 254 248  89   0   0   0   0\n",
            "    0   0   0   0   0   0   0   0   0   0]\n",
            " [  0   0   0   0   0   0   0   0   0  14 195 254 165  54   0   0   0   0\n",
            "    0   0   0   0   0   0   0   0   0   0]\n",
            " [  0   0   0   0   0   0   0   0   0  14 226 254 109   5   0   0   0   0\n",
            "    0   0   0   0   0   0   0   0   0   0]\n",
            " [  0   0   0   0   0   0   0   0   0   0 103 255 255 231 172 144  59   0\n",
            "    0   0   0   0   0   0   0   0   0   0]\n",
            " [  0   0   0   0   0   0   0   0   0   0  15  92 176 237 243 255 249 138\n",
            "    9   0   0   0   0   0   0   0   0   0]\n",
            " [  0   0   0   0   0   0   0   0   0   0   0   0   0   0  22 150 239 254\n",
            "  113   0   0   0   0   0   0   0   0   0]\n",
            " [  0   0   0   0   0   2 150 189 116  49  16   0   0   0   0   2 145 254\n",
            "  176   0   0   0   0   0   0   0   0   0]\n",
            " [  0   0   0   0   0 154 254 254 254 254 213 105  31  39  42 207 254 250\n",
            "  132   0   0   0   0   0   0   0   0   0]\n",
            " [  0   0   0   0   0  97 128 209 254 254 254 254 243 251 254 254 235 131\n",
            "    0   0   0   0   0   0   0   0   0   0]\n",
            " [  0   0   0   0   0   0   0   4  43 154 226 254 239 196 143 113  20   0\n",
            "    0   0   0   0   0   0   0   0   0   0]\n",
            " [  0   0   0   0   0   0   0   0   0   0  13  24  18   0   0   0   0   0\n",
            "    0   0   0   0   0   0   0   0   0   0]\n",
            " [  0   0   0   0   0   0   0   0   0   0   0   0   0   0   0   0   0   0\n",
            "    0   0   0   0   0   0   0   0   0   0]\n",
            " [  0   0   0   0   0   0   0   0   0   0   0   0   0   0   0   0   0   0\n",
            "    0   0   0   0   0   0   0   0   0   0]\n",
            " [  0   0   0   0   0   0   0   0   0   0   0   0   0   0   0   0   0   0\n",
            "    0   0   0   0   0   0   0   0   0   0]\n",
            " [  0   0   0   0   0   0   0   0   0   0   0   0   0   0   0   0   0   0\n",
            "    0   0   0   0   0   0   0   0   0   0]\n",
            " [  0   0   0   0   0   0   0   0   0   0   0   0   0   0   0   0   0   0\n",
            "    0   0   0   0   0   0   0   0   0   0]\n",
            " [  0   0   0   0   0   0   0   0   0   0   0   0   0   0   0   0   0   0\n",
            "    0   0   0   0   0   0   0   0   0   0]]\n",
            "====================================================================================================\n",
            "0  0  0  0  0  0  0  0  0  0  0  0  0  0  0  0  0  0  0  0  0  0  0  0  0  0  0  0  \n",
            "0  0  0  0  0  0  0  0  0  0  0  0  0  0  0  0  0  0  0  0  0  0  0  0  0  0  0  0  \n",
            "0  0  0  0  0  0  0  0  0  0  0  0  0  0  0  0  0  0  0  0  0  0  0  0  0  0  0  0  \n",
            "0  0  0  0  0  0  0  0  0  0  0  0  0  0  0  0  0  0  0  0  0  0  0  0  0  0  0  0  \n",
            "0  0  0  0  0  0  0  0  0  0  0  0  0  0  0  0  0  0  0  0  0  0  0  0  0  0  0  0  \n",
            "0  0  0  0  0  0  0  0  0  0  0  0  0  0  0  0  0  0  0  0  0  0  0  0  0  0  0  0  \n",
            "0  0  0  0  0  0  0  0  0  0  0  0  0  0  0  0  0  0  0  0  0  14 25 10238 0  0  0  \n",
            "0  0  0  0  0  0  0  0  0  0  0  0  0  0  11 0  13 95 1161281972282542541800  0  0  \n",
            "0  0  0  0  0  0  0  0  0  0  0  10 1161472212062242542542542542542542281440  0  0  \n",
            "0  0  0  0  0  0  0  0  0  0  42 21225425425425525020420416412312375 16 0  0  0  0  \n",
            "0  0  0  0  0  0  0  0  0  10 18525423996 33 33 31 0  0  0  0  0  0  0  0  0  0  0  \n",
            "0  0  0  0  0  0  0  0  0  4  16925424889 0  0  0  0  0  0  0  0  0  0  0  0  0  0  \n",
            "0  0  0  0  0  0  0  0  0  14 19525416554 0  0  0  0  0  0  0  0  0  0  0  0  0  0  \n",
            "0  0  0  0  0  0  0  0  0  14 2262541095  0  0  0  0  0  0  0  0  0  0  0  0  0  0  \n",
            "0  0  0  0  0  0  0  0  0  0  10325525523117214459 0  0  0  0  0  0  0  0  0  0  0  \n",
            "0  0  0  0  0  0  0  0  0  0  15 92 1762372432552491389  0  0  0  0  0  0  0  0  0  \n",
            "0  0  0  0  0  0  0  0  0  0  0  0  0  0  22 1502392541130  0  0  0  0  0  0  0  0  \n",
            "0  0  0  0  0  2  15018911649 16 0  0  0  0  2  1452541760  0  0  0  0  0  0  0  0  \n",
            "0  0  0  0  0  15425425425425421310531 39 42 2072542501320  0  0  0  0  0  0  0  0  \n",
            "0  0  0  0  0  97 1282092542542542542432512542542351310  0  0  0  0  0  0  0  0  0  \n",
            "0  0  0  0  0  0  0  4  43 15422625423919614311320 0  0  0  0  0  0  0  0  0  0  0  \n",
            "0  0  0  0  0  0  0  0  0  0  13 24 18 0  0  0  0  0  0  0  0  0  0  0  0  0  0  0  \n",
            "0  0  0  0  0  0  0  0  0  0  0  0  0  0  0  0  0  0  0  0  0  0  0  0  0  0  0  0  \n",
            "0  0  0  0  0  0  0  0  0  0  0  0  0  0  0  0  0  0  0  0  0  0  0  0  0  0  0  0  \n",
            "0  0  0  0  0  0  0  0  0  0  0  0  0  0  0  0  0  0  0  0  0  0  0  0  0  0  0  0  \n",
            "0  0  0  0  0  0  0  0  0  0  0  0  0  0  0  0  0  0  0  0  0  0  0  0  0  0  0  0  \n",
            "0  0  0  0  0  0  0  0  0  0  0  0  0  0  0  0  0  0  0  0  0  0  0  0  0  0  0  0  \n",
            "0  0  0  0  0  0  0  0  0  0  0  0  0  0  0  0  0  0  0  0  0  0  0  0  0  0  0  0  \n",
            "====================================================================================================\n"
          ]
        },
        {
          "output_type": "display_data",
          "data": {
            "text/plain": [
              "<Figure size 640x480 with 1 Axes>"
            ],
            "image/png": "[encoded data removed]"
          },
          "metadata": {}
        }
      ],
      "source": [
        "# Note: run this cell multiple times\n",
        "index = np.random.randint(0, 60000)\n",
        "sample_image = train_images_orig[index]\n",
        "\n",
        "print(\"sample image shape: \", sample_image.shape)\n",
        "print(\"sample image data type: \", type(sample_image))\n",
        "\n",
        "print(\"=\" * 100)\n",
        "print(\"printing the numerical value of a sample image\")\n",
        "print(sample_image)\n",
        "\n",
        "# aligning the pixel values in the output\n",
        "print(\"=\" * 100)\n",
        "for row in sample_image:\n",
        "  print(\"\".join([str(elem).ljust(3) for elem in row]))\n",
        "\n",
        "print(\"=\" * 100)\n",
        "plt.imshow(sample_image, cmap=\"gray\")\n",
        "plt.show()\n"
      ]
    },
    {
      "cell_type": "code",
      "execution_count": 8,
      "metadata": {
        "colab": {
          "base_uri": "https://localhost:8080/"
        },
        "id": "85wgjeiNOiia",
        "outputId": "661c6b47-0292-4255-b641-6559aa8b1028"
      },
      "outputs": [
        {
          "output_type": "execute_result",
          "data": {
            "text/plain": [
              "60000"
            ]
          },
          "metadata": {},
          "execution_count": 8
        }
      ],
      "source": [
        "len(train_labels)"
      ]
    },
    {
      "cell_type": "code",
      "execution_count": 9,
      "metadata": {
        "colab": {
          "base_uri": "https://localhost:8080/"
        },
        "id": "3IHiFiByOiia",
        "outputId": "fa30c19a-f005-46fd-dc51-d0dcebf3804e"
      },
      "outputs": [
        {
          "output_type": "execute_result",
          "data": {
            "text/plain": [
              "array([5, 0, 4, ..., 5, 6, 8], dtype=uint8)"
            ]
          },
          "metadata": {},
          "execution_count": 9
        }
      ],
      "source": [
        "train_labels"
      ]
    },
    {
      "cell_type": "code",
      "execution_count": 10,
      "metadata": {
        "colab": {
          "base_uri": "https://localhost:8080/"
        },
        "id": "DAsd0NdKOiia",
        "outputId": "033ab05a-07e5-4687-fc87-f247e2effc81"
      },
      "outputs": [
        {
          "output_type": "execute_result",
          "data": {
            "text/plain": [
              "(10000, 28, 28)"
            ]
          },
          "metadata": {},
          "execution_count": 10
        }
      ],
      "source": [
        "test_images_orig.shape"
      ]
    },
    {
      "cell_type": "code",
      "execution_count": 11,
      "metadata": {
        "colab": {
          "base_uri": "https://localhost:8080/"
        },
        "id": "QO4S5qBZOiia",
        "outputId": "08397fb0-ec2a-4851-fa99-aec17a9e5e94"
      },
      "outputs": [
        {
          "output_type": "execute_result",
          "data": {
            "text/plain": [
              "10000"
            ]
          },
          "metadata": {},
          "execution_count": 11
        }
      ],
      "source": [
        "len(test_labels)"
      ]
    },
    {
      "cell_type": "code",
      "execution_count": 12,
      "metadata": {
        "colab": {
          "base_uri": "https://localhost:8080/"
        },
        "id": "wJXBxQrWOiib",
        "outputId": "8a64698e-8737-4090-881e-a18cbed991a6"
      },
      "outputs": [
        {
          "output_type": "execute_result",
          "data": {
            "text/plain": [
              "array([7, 2, 1, ..., 4, 5, 6], dtype=uint8)"
            ]
          },
          "metadata": {},
          "execution_count": 12
        }
      ],
      "source": [
        "test_labels"
      ]
    },
    {
      "cell_type": "markdown",
      "metadata": {
        "id": "9WvoQhXMA1db"
      },
      "source": [
        "### **Exercise 1:** Display the fourth image in the `test set` with its label."
      ]
    },
    {
      "cell_type": "code",
      "execution_count": 13,
      "metadata": {
        "id": "6o0gVaAFA01Y",
        "outputId": "c70f0846-b3e4-4fee-e856-76b9205eaa07",
        "colab": {
          "base_uri": "https://localhost:8080/",
          "height": 446
        }
      },
      "outputs": [
        {
          "output_type": "stream",
          "name": "stdout",
          "text": [
            "Label for the fourth image: 0\n"
          ]
        },
        {
          "output_type": "display_data",
          "data": {
            "text/plain": [
              "<Figure size 640x480 with 1 Axes>"
            ],
            "image/png": "[encoded data removed]"
          },
          "metadata": {}
        }
      ],
      "source": [
        "image_index = 3\n",
        "image = test_images_orig[image_index]\n",
        "label = test_labels[image_index]\n",
        "\n",
        "# Print the label\n",
        "print(f\"Label for the fourth image: {label}\")\n",
        "\n",
        "# Display the image\n",
        "plt.imshow(image, cmap=\"gray\")\n",
        "plt.title(f\"Label: {label}\")\n",
        "plt.axis(\"off\")\n",
        "plt.show()\n"
      ]
    },
    {
      "cell_type": "markdown",
      "metadata": {
        "id": "yw3gwShVfieT"
      },
      "source": [
        "# A first look at a neural network"
      ]
    },
    {
      "cell_type": "markdown",
      "metadata": {
        "id": "1lRD_ACCOiib"
      },
      "source": [
        "## **Step 1:** The network architecture"
      ]
    },
    {
      "cell_type": "code",
      "execution_count": null,
      "metadata": {
        "id": "msh9I3NHOiib"
      },
      "outputs": [],
      "source": [
        "from tensorflow import keras\n",
        "from tensorflow.keras import layers\n",
        "model = keras.Sequential([\n",
        "    layers.Dense(512, activation=\"relu\"),\n",
        "    layers.Dense(10, activation=\"softmax\")\n",
        "])"
      ]
    },
    {
      "cell_type": "markdown",
      "metadata": {
        "id": "U-Cul184liV5"
      },
      "source": [
        "<img src=\"https://raw.githubusercontent.com/PyDataGBC/PyML2025/refs/heads/main/LabWeek3/assets/architecture.png\" width=\"1000\" height=\"400\">"
      ]
    },
    {
      "cell_type": "markdown",
      "metadata": {
        "id": "gHueYzDVOiib"
      },
      "source": [
        "### **Input layer** - Preparing the image data\n",
        "\n",
        "**Note: The nodes in the `Input layer` are not neurons. They are pixel values.**"
      ]
    },
    {
      "cell_type": "code",
      "execution_count": null,
      "metadata": {
        "id": "xT2ryOvuOiib"
      },
      "outputs": [],
      "source": [
        "train_images = train_images_orig.reshape((60000, 28 * 28))\n",
        "train_images = train_images.astype(\"float32\") / 255\n",
        "\n",
        "test_images= test_images_orig.reshape((10000, 28 * 28))\n",
        "test_images = test_images.astype(\"float32\") / 255"
      ]
    },
    {
      "cell_type": "markdown",
      "metadata": {
        "id": "5eDL43SvmPQd"
      },
      "source": [
        "### **Exercise 2:** What is the shape of data after preprocessing"
      ]
    },
    {
      "cell_type": "code",
      "execution_count": 15,
      "metadata": {
        "id": "2ixny62KmeBM",
        "outputId": "010108d6-496a-4ad0-afdf-aae153178413",
        "colab": {
          "base_uri": "https://localhost:8080/"
        }
      },
      "outputs": [
        {
          "output_type": "stream",
          "name": "stdout",
          "text": [
            "Shape of training data after preprocessing: (60000, 784)\n",
            "Shape of test data after preprocessing: (10000, 784)\n"
          ]
        }
      ],
      "source": [
        "train_images = train_images_orig.reshape((60000, 28 * 28))\n",
        "train_images = train_images.astype(\"float32\") / 255\n",
        "\n",
        "test_images = test_images_orig.reshape((10000, 28 * 28))\n",
        "test_images = test_images.astype(\"float32\") / 255\n",
        "\n",
        "print(\"Shape of training data after preprocessing:\", train_images.shape)\n",
        "print(\"Shape of test data after preprocessing:\", test_images.shape)\n"
      ]
    },
    {
      "cell_type": "markdown",
      "metadata": {
        "id": "KOOBszTfOiil"
      },
      "source": [
        "### Tensor reshaping"
      ]
    },
    {
      "cell_type": "code",
      "execution_count": null,
      "metadata": {
        "colab": {
          "base_uri": "https://localhost:8080/"
        },
        "id": "FxXrOEwTOiil",
        "outputId": "8214f881-6b71-43e0-83b2-63cccef3afc4"
      },
      "outputs": [
        {
          "data": {
            "text/plain": [
              "(3, 2)"
            ]
          },
          "execution_count": 16,
          "metadata": {},
          "output_type": "execute_result"
        }
      ],
      "source": [
        "a = np.array([[0., 1.],\n",
        "             [2., 3.],\n",
        "             [4., 5.]])\n",
        "a.shape"
      ]
    },
    {
      "cell_type": "markdown",
      "metadata": {
        "id": "AHR8KC7hBOcE"
      },
      "source": [
        "### **Exercise 3:** reshape the `a` matrix to 6 x 1 matrix."
      ]
    },
    {
      "cell_type": "code",
      "execution_count": 17,
      "metadata": {
        "id": "SGJxUrlmBXf6",
        "outputId": "c2e7c1c3-7ccd-469e-bc7a-5096fb134746",
        "colab": {
          "base_uri": "https://localhost:8080/"
        }
      },
      "outputs": [
        {
          "output_type": "stream",
          "name": "stdout",
          "text": [
            "Reshaped matrix:\n",
            "[[0.]\n",
            " [1.]\n",
            " [2.]\n",
            " [3.]\n",
            " [4.]\n",
            " [5.]]\n",
            "Shape of reshaped matrix: (6, 1)\n"
          ]
        }
      ],
      "source": [
        "a = np.array([[0., 1.],\n",
        "             [2., 3.],\n",
        "             [4., 5.]])\n",
        "\n",
        "a_reshaped = a.reshape((6, 1))\n",
        "\n",
        "print(\"Reshaped matrix:\")\n",
        "print(a_reshaped)\n",
        "print(\"Shape of reshaped matrix:\", a_reshaped.shape)\n"
      ]
    },
    {
      "cell_type": "markdown",
      "metadata": {
        "id": "3eQ4EGfsm4Z6"
      },
      "source": [
        "### **Hidden layer** with `relu` activation function\n",
        "\n",
        "Each neuron in the hidden layer, as illustrated in the figure below, comprises two main components: the summation function and the activation function.\n",
        "\n",
        "In our architecture, we have 512 neurons in the hidden layer."
      ]
    },
    {
      "cell_type": "markdown",
      "metadata": {
        "id": "dOWdc9SdsTiV"
      },
      "source": [
        "<img src=https://raw.githubusercontent.com/PyDataGBC/PyML2025/refs/heads/main/LabWeek3/assets/relu.webp with=\"500\" height=\"300\">"
      ]
    },
    {
      "cell_type": "markdown",
      "metadata": {
        "id": "FynF-azXmJZQ"
      },
      "source": [
        "**The preferred activation function for hidden layers is `relu`. The mathematical function of ReLU is as follows:**\n",
        "\n",
        "$$\n",
        "relu(x) = max(0, x)\n",
        "$$\n",
        "\n",
        "> **Note: ReLU is considered as one of the biggest breakthroughs in deep learning because ReLU makes it possible to train a very deep neural network. It has solved the `vanishing gradient` challenge in `deep` networks with many hidden layers.**\n"
      ]
    },
    {
      "cell_type": "markdown",
      "metadata": {
        "id": "qIQfdpVQwKaS"
      },
      "source": [
        "### **Exercise 4** Write a function that takes a number/array `x` and returns `relu(x)`. Use the `np.maximum()` method in your function. Then, plot this function for x in the range of -5 to 5."
      ]
    },
    {
      "cell_type": "code",
      "execution_count": 18,
      "metadata": {
        "id": "tAnajbFMzKEt",
        "outputId": "3bd2b6e9-62f4-48a1-bc50-88cc5a66d595",
        "colab": {
          "base_uri": "https://localhost:8080/",
          "height": 472
        }
      },
      "outputs": [
        {
          "output_type": "display_data",
          "data": {
            "text/plain": [
              "<Figure size 640x480 with 1 Axes>"
            ],
            "image/png": "[encoded data removed]"
          },
          "metadata": {}
        }
      ],
      "source": [
        "import numpy as np\n",
        "import matplotlib.pyplot as plt\n",
        "\n",
        "def relu(x):\n",
        "    return np.maximum(0, x)\n",
        "\n",
        "x = np.linspace(-5, 5, 100)\n",
        "\n",
        "y = relu(x)\n",
        "\n",
        "plt.plot(x, y, label=\"ReLU(x)\")\n",
        "plt.title(\"ReLU Activation Function\")\n",
        "plt.xlabel(\"x\")\n",
        "plt.ylabel(\"ReLU(x)\")\n",
        "plt.axhline(0, color=\"black\", linewidth=0.5, linestyle=\"--\")\n",
        "plt.axvline(0, color=\"black\", linewidth=0.5, linestyle=\"--\")\n",
        "plt.legend()\n",
        "plt.grid()\n",
        "plt.show()\n"
      ]
    },
    {
      "cell_type": "code",
      "execution_count": null,
      "metadata": {
        "colab": {
          "base_uri": "https://localhost:8080/",
          "height": 430
        },
        "id": "OnXGVCwdwKAj",
        "outputId": "92c136dd-deb7-4ea3-d38e-eb23f0739e6e"
      },
      "outputs": [
        {
          "data": {
            "image/png": "[encoded data removed]",
            "text/plain": [
              "<Figure size 640x480 with 1 Axes>"
            ]
          },
          "metadata": {},
          "output_type": "display_data"
        }
      ],
      "source": [
        "# my solution output"
      ]
    },
    {
      "cell_type": "markdown",
      "metadata": {
        "id": "O5TMH_rPkESS"
      },
      "source": [
        "### **Ecercise 5:** Suppose that I have 5 neurons in my hidden layer. After the summation stage, the result of this layer is `[-10, 5, 0, -2, 6]`. What is the result after passing this through the ReLU activation function?"
      ]
    },
    {
      "cell_type": "markdown",
      "metadata": {
        "id": "Yk3On5aykESS"
      },
      "source": [
        "![](https://raw.githubusercontent.com/PyDataGBC/PyML2025/refs/heads/main/LabWeek3/assets/pass-relu.png)"
      ]
    },
    {
      "cell_type": "markdown",
      "metadata": {
        "id": "iz6Jl5QTkEST"
      },
      "source": [
        "your answer here:\n",
        "ReLU(-10) = max(0, -10) = 0\n",
        "\n",
        "ReLU(5) = max(0, 5) = 5\n",
        "\n",
        "ReLU(0) = max(0, 0) = 0\n",
        "\n",
        "ReLU(-2) = max(0, -2) = 0\n",
        "\n",
        "ReLU(6) = max(0, 6) = 6"
      ]
    },
    {
      "cell_type": "markdown",
      "metadata": {
        "id": "bTTW3sVa0xZz"
      },
      "source": [
        "### **Output layer** - `Sigmoid` and `Softmax` activation function"
      ]
    },
    {
      "cell_type": "markdown",
      "metadata": {
        "id": "LBpOEjCNzRiR"
      },
      "source": [
        "Each neuron in the last layer of the neural network should output a number between 0 and 1 because each neuron represents the probability of the input belonging to a specific class.\n",
        "\n",
        "**Important Note:** The values of the neurons in the last layer before applying the activation function are called `logits` or `scores`.\n",
        "\n",
        "One way to achieve this is by using the sigmoid activation function.\n",
        "\n",
        "The sigmoid function takes an input\n",
        "`x` and outputs a number between 0 and 1.\n",
        "\n",
        "$$\n",
        "\\sigma(x) = \\frac{1}{1 + e^{-x}}\n",
        "$$"
      ]
    },
    {
      "cell_type": "code",
      "execution_count": null,
      "metadata": {
        "colab": {
          "base_uri": "https://localhost:8080/",
          "height": 430
        },
        "id": "fl7icdWsc86A",
        "outputId": "09ec5180-0b27-4f5d-f186-15bdb72c606a"
      },
      "outputs": [
        {
          "data": {
            "image/png": "[encoded data removed]",
            "text/plain": [
              "<Figure size 640x480 with 1 Axes>"
            ]
          },
          "metadata": {},
          "output_type": "display_data"
        }
      ],
      "source": [
        "def sigmoid(x):\n",
        "    return 1 / (1 + np.exp(-x))\n",
        "\n",
        "x = np.linspace(-10, 10, 100)\n",
        "y = sigmoid(x)\n",
        "\n",
        "plt.plot(x, y)\n",
        "plt.grid()\n",
        "plt.show()"
      ]
    },
    {
      "cell_type": "markdown",
      "metadata": {
        "id": "zJePFKxXdKBm"
      },
      "source": [
        "### **Exercise 6:** Using the sigmoid function defined in the previous cell, suppose the last layer of a neural network has 4 neurons with the following values: [3.2, 1.3, 0.2, 0.8].\n",
        "  - Apply the sigmoid function to these values to map them to numbers between 0 and 1.\n",
        "  - Then, generate a bar plot of the scaled values.\n",
        "\n",
        "![](https://raw.githubusercontent.com/PyDataGBC/PyML2025/refs/heads/main/LabWeek3/assets/pass-sigmoid.png)"
      ]
    },
    {
      "cell_type": "code",
      "execution_count": 19,
      "metadata": {
        "id": "yu6voXKUefdh",
        "outputId": "b2d51191-e280-44cf-fc15-b209cd016c73",
        "colab": {
          "base_uri": "https://localhost:8080/",
          "height": 472
        }
      },
      "outputs": [
        {
          "output_type": "display_data",
          "data": {
            "text/plain": [
              "<Figure size 640x480 with 1 Axes>"
            ],
            "image/png": "[encoded data removed]"
          },
          "metadata": {}
        }
      ],
      "source": [
        "import numpy as np\n",
        "import matplotlib.pyplot as plt\n",
        "\n",
        "def sigmoid(x):\n",
        "    return 1 / (1 + np.exp(-x))\n",
        "\n",
        "logits = np.array([3.2, 1.3, 0.2, 0.8])\n",
        "\n",
        "logits_scaled = sigmoid(logits)\n",
        "\n",
        "plt.bar(np.arange(len(logits_scaled)), logits_scaled, color='blue')\n",
        "plt.title(\"Scaled Values after Sigmoid Activation\")\n",
        "plt.xlabel(\"Neuron Index\")\n",
        "plt.ylabel(\"Scaled Value\")\n",
        "plt.xticks(np.arange(len(logits_scaled)))\n",
        "plt.ylim(0, 1)\n",
        "plt.grid(axis=\"y\", linestyle=\"--\", linewidth=0.5)\n",
        "plt.show()\n"
      ]
    },
    {
      "cell_type": "code",
      "execution_count": null,
      "metadata": {
        "colab": {
          "base_uri": "https://localhost:8080/",
          "height": 450
        },
        "id": "1ZWmslI7emNy",
        "outputId": "45279747-b373-4b2d-ab7a-eadfd676c754"
      },
      "outputs": [
        {
          "name": "stdout",
          "output_type": "stream",
          "text": [
            "[0.96083428 0.78583498 0.549834   0.68997448]\n"
          ]
        },
        {
          "data": {
            "image/png": "[encoded data removed]",
            "text/plain": [
              "<Figure size 640x480 with 1 Axes>"
            ]
          },
          "metadata": {},
          "output_type": "display_data"
        }
      ],
      "source": [
        "#my solution output"
      ]
    },
    {
      "cell_type": "markdown",
      "metadata": {
        "id": "RaVOBNzLhz3R"
      },
      "source": [
        "This plot shows the probability distribution over labels. However, there is an issue here: with the sigmoid function, each output is independent and bounded between 0 and 1, but their sum is not constrained to equal 1. To address this, we use the softmax function, which normalizes the outputs so that they sum to 1, ensuring a valid probability distribution over the labels.\n",
        "\n",
        "\n",
        "$$\n",
        "\\text{softmax}(x_i) = \\frac{e^{x_i}}{\\sum_{j=1}^N e^{x_j}}\n",
        "$$"
      ]
    },
    {
      "cell_type": "code",
      "execution_count": 20,
      "metadata": {
        "id": "9HKVFpJJj9NC"
      },
      "outputs": [],
      "source": [
        "def softmax(x):\n",
        "  \"\"\"\n",
        "  input x is the output of the last layer of a neural network\n",
        "  \"\"\"\n",
        "  return np.exp(x)/sum(np.exp(x))"
      ]
    },
    {
      "cell_type": "markdown",
      "metadata": {
        "id": "IgDgRtDelTWr"
      },
      "source": [
        "### **Exercise 7:** Pass the logits defined in Exercise 6 from the softmax function and plot the probability distribution over the labels."
      ]
    },
    {
      "cell_type": "markdown",
      "metadata": {
        "id": "lApHyRwckESn"
      },
      "source": [
        "![](https://raw.githubusercontent.com/PyDataGBC/PyML2025/refs/heads/main/LabWeek3/assets/pass-softmax.png)"
      ]
    },
    {
      "cell_type": "code",
      "execution_count": 21,
      "metadata": {
        "id": "p4ph_f-KlqIp",
        "outputId": "33a4b57b-c686-4eab-b98f-6c3cfddad9df",
        "colab": {
          "base_uri": "https://localhost:8080/",
          "height": 508
        }
      },
      "outputs": [
        {
          "output_type": "stream",
          "name": "stdout",
          "text": [
            "Softmax probabilities: [0.77514955 0.11593805 0.03859242 0.07031998]\n",
            "Sum of probabilities: 1.0000000000000002\n"
          ]
        },
        {
          "output_type": "display_data",
          "data": {
            "text/plain": [
              "<Figure size 640x480 with 1 Axes>"
            ],
            "image/png": "[encoded data removed]"
          },
          "metadata": {}
        }
      ],
      "source": [
        "import numpy as np\n",
        "import matplotlib.pyplot as plt\n",
        "\n",
        "def softmax(x):\n",
        "    exp_x = np.exp(x - np.max(x))\n",
        "    return exp_x / np.sum(exp_x)\n",
        "\n",
        "logits = np.array([3.2, 1.3, 0.2, 0.8])\n",
        "\n",
        "probs = softmax(logits)\n",
        "\n",
        "print(\"Softmax probabilities:\", probs)\n",
        "print(\"Sum of probabilities:\", np.sum(probs))\n",
        "\n",
        "plt.bar(np.arange(len(probs)), probs, color='orange')\n",
        "plt.title(\"Softmax Output - Probability Distribution\")\n",
        "plt.xlabel(\"Neuron Index\")\n",
        "plt.ylabel(\"Probability\")\n",
        "plt.xticks(np.arange(len(probs)))\n",
        "plt.ylim(0, 1)\n",
        "plt.grid(axis=\"y\", linestyle=\"--\", linewidth=0.5)\n",
        "plt.show()\n"
      ]
    },
    {
      "cell_type": "code",
      "execution_count": null,
      "metadata": {
        "colab": {
          "base_uri": "https://localhost:8080/",
          "height": 466
        },
        "id": "R3BIeRX3jfpM",
        "outputId": "8869c396-1868-442d-8e32-bf59cb3422ec"
      },
      "outputs": [
        {
          "name": "stdout",
          "output_type": "stream",
          "text": [
            "[0.77514955 0.11593805 0.03859242 0.07031998]\n",
            "sum of all probs:  1.0000000000000002\n"
          ]
        },
        {
          "data": {
            "image/png": "[encoded data removed]",
            "text/plain": [
              "<Figure size 640x480 with 1 Axes>"
            ]
          },
          "metadata": {},
          "output_type": "display_data"
        }
      ],
      "source": [
        "#my solution output"
      ]
    },
    {
      "cell_type": "markdown",
      "metadata": {
        "id": "T5Gnhpe4nZQo"
      },
      "source": [
        "### Exercise 8: Given the `probs` you calculated in the previous Exercise, find the predicted label using `np.argmax()` method."
      ]
    },
    {
      "cell_type": "code",
      "execution_count": 22,
      "metadata": {
        "id": "Gd2Cv0Ran9ue",
        "outputId": "d4097a3c-1f65-405f-eb18-d78aefbf7882",
        "colab": {
          "base_uri": "https://localhost:8080/"
        }
      },
      "outputs": [
        {
          "output_type": "stream",
          "name": "stdout",
          "text": [
            "Predicted class: 0\n"
          ]
        }
      ],
      "source": [
        "#your code here\n",
        "predicted_class = np.argmax(probs)\n",
        "print(\"Predicted class:\", predicted_class)\n"
      ]
    },
    {
      "cell_type": "markdown",
      "metadata": {
        "id": "-ZqsLloUmoXP"
      },
      "source": [
        "> **To summarize so far, the input to the neural network is, for example, an image, and the output is the probability distribution over the labels.**\n",
        "\n",
        "> **You can try [Google Teachable Machine](https://teachablemachine.withgoogle.com/train/image) to explore this concept further.**\n",
        "\n",
        "<img src=https://raw.githubusercontent.com/PyDataGBC/PyML2025/refs/heads/main/LabWeek3/assets/overal_logit-softmax.png height=\"650\" width=\"650\" >\n",
        "\n",
        "\n"
      ]
    },
    {
      "cell_type": "markdown",
      "metadata": {
        "id": "Lql9wyl25aZ_"
      },
      "source": [
        "In the next steps, we will train the neural network defined in step 1. By training the network, we optimize the weights between the neurons."
      ]
    },
    {
      "cell_type": "markdown",
      "metadata": {
        "id": "U0CrTPHfOiib"
      },
      "source": [
        "## **Step 2:** The compilation step"
      ]
    },
    {
      "cell_type": "code",
      "execution_count": null,
      "metadata": {
        "id": "KFJ3F19DOiib"
      },
      "outputs": [],
      "source": [
        "model.compile(optimizer=\"rmsprop\",\n",
        "              loss=\"sparse_categorical_crossentropy\",\n",
        "              metrics=[\"accuracy\"])"
      ]
    },
    {
      "cell_type": "markdown",
      "metadata": {
        "id": "L81NKZviOiic"
      },
      "source": [
        "## **Step 3:** \"Fitting\" the model"
      ]
    },
    {
      "cell_type": "code",
      "execution_count": null,
      "metadata": {
        "colab": {
          "base_uri": "https://localhost:8080/"
        },
        "id": "wskV0N2jOiic",
        "outputId": "38e8b0ab-78ef-40b4-fd67-6b15dadaa109"
      },
      "outputs": [
        {
          "name": "stdout",
          "output_type": "stream",
          "text": [
            "Epoch 1/5\n",
            "\u001b[1m469/469\u001b[0m \u001b[32m━━━━━━━━━━━━━━━━━━━━\u001b[0m\u001b[37m\u001b[0m \u001b[1m9s\u001b[0m 16ms/step - accuracy: 0.8736 - loss: 0.4464\n",
            "Epoch 2/5\n",
            "\u001b[1m469/469\u001b[0m \u001b[32m━━━━━━━━━━━━━━━━━━━━\u001b[0m\u001b[37m\u001b[0m \u001b[1m8s\u001b[0m 12ms/step - accuracy: 0.9649 - loss: 0.1159\n",
            "Epoch 3/5\n",
            "\u001b[1m469/469\u001b[0m \u001b[32m━━━━━━━━━━━━━━━━━━━━\u001b[0m\u001b[37m\u001b[0m \u001b[1m9s\u001b[0m 10ms/step - accuracy: 0.9793 - loss: 0.0678\n",
            "Epoch 4/5\n",
            "\u001b[1m469/469\u001b[0m \u001b[32m━━━━━━━━━━━━━━━━━━━━\u001b[0m\u001b[37m\u001b[0m \u001b[1m5s\u001b[0m 11ms/step - accuracy: 0.9846 - loss: 0.0515\n",
            "Epoch 5/5\n",
            "\u001b[1m469/469\u001b[0m \u001b[32m━━━━━━━━━━━━━━━━━━━━\u001b[0m\u001b[37m\u001b[0m \u001b[1m6s\u001b[0m 12ms/step - accuracy: 0.9888 - loss: 0.0380\n"
          ]
        },
        {
          "data": {
            "text/plain": [
              "<keras.src.callbacks.history.History at 0x7d7d68e47e10>"
            ]
          },
          "execution_count": 30,
          "metadata": {},
          "output_type": "execute_result"
        }
      ],
      "source": [
        "model.fit(train_images, train_labels, epochs=5, batch_size=128)"
      ]
    },
    {
      "cell_type": "markdown",
      "metadata": {
        "id": "MGRD8nxIOiic"
      },
      "source": [
        "## **Step 4:** Using the model to make predictions"
      ]
    },
    {
      "cell_type": "code",
      "execution_count": null,
      "metadata": {
        "colab": {
          "base_uri": "https://localhost:8080/"
        },
        "id": "fSCAAaomOiic",
        "outputId": "cdf95de0-16ce-421a-90bb-7aa410406ed2"
      },
      "outputs": [
        {
          "name": "stdout",
          "output_type": "stream",
          "text": [
            "\u001b[1m1/1\u001b[0m \u001b[32m━━━━━━━━━━━━━━━━━━━━\u001b[0m\u001b[37m\u001b[0m \u001b[1m0s\u001b[0m 53ms/step\n"
          ]
        },
        {
          "data": {
            "text/plain": [
              "array([[5.3813039e-08, 8.8339903e-08, 1.4601770e-05, 6.6420631e-03,\n",
              "        1.6605675e-11, 4.3978287e-07, 1.0941298e-11, 9.9332482e-01,\n",
              "        2.3918119e-06, 1.5561984e-05],\n",
              "       [6.4626519e-08, 4.8077818e-06, 9.9999309e-01, 1.1165381e-06,\n",
              "        1.8537705e-13, 4.7513544e-07, 8.0789547e-08, 4.5650110e-13,\n",
              "        2.0799199e-07, 9.8211294e-13],\n",
              "       [8.9335833e-07, 9.9923730e-01, 1.3652080e-04, 1.5359572e-05,\n",
              "        1.0737173e-04, 7.1584327e-06, 1.8019173e-05, 3.4408402e-04,\n",
              "        1.3106359e-04, 2.1893347e-06]], dtype=float32)"
            ]
          },
          "execution_count": 31,
          "metadata": {},
          "output_type": "execute_result"
        }
      ],
      "source": [
        "test_digits = test_images[:3] #predictiong the label of test_image[0] , test_image[1], test_image[2]\n",
        "predictions = model.predict(test_digits)\n",
        "predictions"
      ]
    },
    {
      "cell_type": "markdown",
      "metadata": {
        "id": "ihUfDp-cwMX1"
      },
      "source": [
        "\n",
        "\n",
        "```\n",
        "`# This is formatted as code`\n",
        "```\n",
        "\n",
        "### **Exercise 9:** Interpret the values in the `prediction`array.  "
      ]
    },
    {
      "cell_type": "markdown",
      "metadata": {
        "id": "VLQt6BaRwopn"
      },
      "source": [
        "your answer here:  \n",
        "The predictions array contains probabilities for each class (0–9) for the given test images.\n",
        "\n",
        "Each row represents a test image.\n",
        "The index with the highest probability in each row is the predicted class.\n",
        "\n",
        "The sum of each row equals 1 because of the softmax function."
      ]
    },
    {
      "cell_type": "markdown",
      "metadata": {
        "id": "8wcYjgatpscn"
      },
      "source": [
        "### See the result for the prediction of the first image"
      ]
    },
    {
      "cell_type": "code",
      "execution_count": null,
      "metadata": {
        "colab": {
          "base_uri": "https://localhost:8080/"
        },
        "id": "PRoNum0vOiic",
        "outputId": "87444550-6a69-4b9e-fdbb-b8b88ec5d544"
      },
      "outputs": [
        {
          "name": "stdout",
          "output_type": "stream",
          "text": [
            "[5.3813039e-08 8.8339903e-08 1.4601770e-05 6.6420631e-03 1.6605675e-11\n",
            " 4.3978287e-07 1.0941298e-11 9.9332482e-01 2.3918119e-06 1.5561984e-05]\n",
            "Predicted label:  7\n"
          ]
        }
      ],
      "source": [
        "print(predictions[0])\n",
        "predicted_label = np.argmax(predictions[0])\n",
        "print(\"Predicted label: \", predicted_label)"
      ]
    },
    {
      "cell_type": "code",
      "execution_count": null,
      "metadata": {
        "colab": {
          "base_uri": "https://localhost:8080/"
        },
        "id": "_uMNt8RBOiic",
        "outputId": "69778905-2498-4fd7-f879-0d911f1f19b9"
      },
      "outputs": [
        {
          "name": "stdout",
          "output_type": "stream",
          "text": [
            "highest prob:  0.9933248\n"
          ]
        }
      ],
      "source": [
        "print(\"highest prob: \", predictions[0][7])"
      ]
    },
    {
      "cell_type": "code",
      "execution_count": null,
      "metadata": {
        "colab": {
          "base_uri": "https://localhost:8080/"
        },
        "id": "ZIohjja0Oiic",
        "outputId": "e0788417-edc2-44a5-f4f1-3b3e967e3505"
      },
      "outputs": [
        {
          "name": "stdout",
          "output_type": "stream",
          "text": [
            "True label:  7\n"
          ]
        }
      ],
      "source": [
        "true_label = test_labels[0]\n",
        "print(\"True label: \", true_label)"
      ]
    },
    {
      "cell_type": "code",
      "execution_count": null,
      "metadata": {
        "colab": {
          "base_uri": "https://localhost:8080/",
          "height": 430
        },
        "id": "v0BQGeFGyB0S",
        "outputId": "99617f0d-6da8-44d6-971f-ddbf0615b2a0"
      },
      "outputs": [
        {
          "data": {
            "image/png": "[encoded data removed]",
            "text/plain": [
              "<Figure size 640x480 with 1 Axes>"
            ]
          },
          "metadata": {},
          "output_type": "display_data"
        }
      ],
      "source": [
        "# plt.bar(np.arange(10), predictions[0])\n",
        "sns.barplot(x=np.arange(10), y=predictions[0], hue=np.arange(10), palette='Set1', legend=False)\n",
        "plt.xticks(np.arange(10))\n",
        "plt.show()"
      ]
    },
    {
      "cell_type": "markdown",
      "metadata": {
        "id": "6Xg5zxooyXsT"
      },
      "source": [
        "> **So, the output distribution of the model is very close to our ideal distribution, which is [0, 0, 0, 0, 0, 0, 0, 1, 0, 0].**\n",
        "\n"
      ]
    },
    {
      "cell_type": "markdown",
      "metadata": {
        "id": "JZOuYKm7ujhX"
      },
      "source": [
        "### **Exercise 10:** Predict the label of the fourth element of the test set.\n",
        "\n",
        "**Important Note: Neural networks are designed to predict labels for a batch of data. For example, in the previous section, we predicted labels for a batch of four images, where the input shape was (4, 784). Similarly, when working with a single image, it must be fed into the network in the batch format with a shape of (1, 784).**"
      ]
    },
    {
      "cell_type": "code",
      "execution_count": 24,
      "metadata": {
        "id": "I6IMdmOyvW2a",
        "outputId": "569a4780-6a2e-49bb-dc72-501cff29d636",
        "colab": {
          "base_uri": "https://localhost:8080/",
          "height": 673
        }
      },
      "outputs": [
        {
          "output_type": "stream",
          "name": "stdout",
          "text": [
            "\u001b[1m1/1\u001b[0m \u001b[32m━━━━━━━━━━━━━━━━━━━━\u001b[0m\u001b[37m\u001b[0m \u001b[1m0s\u001b[0m 299ms/step\n",
            "Predicted probabilities for the fourth test image: [0.19065832 0.08236402 0.06091931 0.06579525 0.13779542 0.08603249\n",
            " 0.10669713 0.11109917 0.1121212  0.04651772]\n",
            "Predicted label for the fourth test image: 0\n",
            "True label for the fourth test image: 0\n"
          ]
        },
        {
          "output_type": "stream",
          "name": "stderr",
          "text": [
            "<ipython-input-24-c815c3f06121>:20: FutureWarning: \n",
            "\n",
            "Passing `palette` without assigning `hue` is deprecated and will be removed in v0.14.0. Assign the `x` variable to `hue` and set `legend=False` for the same effect.\n",
            "\n",
            "  sns.barplot(x=np.arange(10), y=predictions_fourth[0], palette='Set2')\n"
          ]
        },
        {
          "output_type": "display_data",
          "data": {
            "text/plain": [
              "<Figure size 640x480 with 1 Axes>"
            ],
            "image/png": "[encoded data removed]"
          },
          "metadata": {}
        }
      ],
      "source": [
        "from tensorflow import keras\n",
        "from tensorflow.keras import layers\n",
        "import numpy as np\n",
        "import matplotlib.pyplot as plt\n",
        "import seaborn as sns\n",
        "\n",
        "model = keras.Sequential([\n",
        "    layers.Dense(512, activation=\"relu\"),\n",
        "    layers.Dense(10, activation=\"softmax\")\n",
        "])\n",
        "model.compile(optimizer=\"rmsprop\", loss=\"sparse_categorical_crossentropy\", metrics=[\"accuracy\"])\n",
        "\n",
        "test_image_fourth = test_images[3].reshape(1, -1)\n",
        "predictions_fourth = model.predict(test_image_fourth)\n",
        "print(\"Predicted probabilities for the fourth test image:\", predictions_fourth[0])\n",
        "predicted_label = np.argmax(predictions_fourth[0])\n",
        "print(\"Predicted label for the fourth test image:\", predicted_label)\n",
        "true_label = test_labels[3]\n",
        "print(\"True label for the fourth test image:\", true_label)\n",
        "sns.barplot(x=np.arange(10), y=predictions_fourth[0], palette='Set2')\n",
        "plt.title(f\"Prediction for Fourth Test Image (True Label: {true_label})\")\n",
        "plt.xlabel(\"Label\")\n",
        "plt.ylabel(\"Probability\")\n",
        "plt.xticks(np.arange(10))\n",
        "plt.show()\n"
      ]
    },
    {
      "cell_type": "markdown",
      "metadata": {
        "id": "PP970c2wOiic"
      },
      "source": [
        "## **Step 5:** Evaluating the model on new data"
      ]
    },
    {
      "cell_type": "code",
      "execution_count": null,
      "metadata": {
        "colab": {
          "base_uri": "https://localhost:8080/"
        },
        "id": "sqtlOxVsOiic",
        "outputId": "3e50fcfe-c24c-4782-f326-ce90a6206f7d"
      },
      "outputs": [
        {
          "name": "stdout",
          "output_type": "stream",
          "text": [
            "\u001b[1m313/313\u001b[0m \u001b[32m━━━━━━━━━━━━━━━━━━━━\u001b[0m\u001b[37m\u001b[0m \u001b[1m1s\u001b[0m 2ms/step - accuracy: 0.9776 - loss: 0.0736\n",
            "test_acc: 0.9807999730110168\n"
          ]
        }
      ],
      "source": [
        "test_loss, test_acc = model.evaluate(test_images, test_labels)\n",
        "print(f\"test_acc: {test_acc}\")"
      ]
    },
    {
      "cell_type": "markdown",
      "metadata": {
        "id": "wV2CcxlmxFUC"
      },
      "source": [
        "**Note:** We will discuss `optimizer`, `loss`, `epoch`, and `batch` in more depth in the coming weeks."
      ]
    }
  ],
  "metadata": {
    "colab": {
      "provenance": []
    },
    "kernelspec": {
      "display_name": "Python 3",
      "language": "python",
      "name": "python3"
    },
    "language_info": {
      "codemirror_mode": {
        "name": "ipython",
        "version": 3
      },
      "file_extension": ".py",
      "mimetype": "text/x-python",
      "name": "python",
      "nbconvert_exporter": "python",
      "pygments_lexer": "ipython3",
      "version": "3.7.0"
    }
  },
  "nbformat": 4,
  "nbformat_minor": 0
}