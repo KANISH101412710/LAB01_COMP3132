{
  "cells": [
    {
      "cell_type": "markdown",
      "metadata": {
        "id": "yXQSrVGLbfCq"
      },
      "source": [
        "# Lab 4: Basic regression - Predict fuel efficiency\n",
        "\n"
      ]
    },
    {
      "cell_type": "markdown",
      "metadata": {
        "id": "v9HUhbCGbfCr"
      },
      "source": [
        "## Imports"
      ]
    },
    {
      "cell_type": "code",
      "execution_count": 2,
      "metadata": {
        "id": "IZf-mK3kbfCs"
      },
      "outputs": [],
      "source": [
        "import numpy as np\n",
        "import pandas as pd\n",
        "import matplotlib.pyplot as plt\n",
        "import seaborn as sns # we use this library to load the dataset\n",
        "import tensorflow as tf\n",
        "from tensorflow import keras\n",
        "from tensorflow.keras import layers"
      ]
    },
    {
      "cell_type": "markdown",
      "metadata": {
        "id": "8ceGRpBIbfCs"
      },
      "source": [
        "## Load data"
      ]
    },
    {
      "cell_type": "code",
      "execution_count": 3,
      "metadata": {
        "id": "3MF2KLxHbfCs"
      },
      "outputs": [],
      "source": [
        "# Load the 'mpg' dataset using seaborn library into a Pandas DataFrame\n",
        "df = sns.load_dataset('mpg')"
      ]
    },
    {
      "cell_type": "markdown",
      "metadata": {
        "id": "XfxdDYPNbfCs"
      },
      "source": [
        "MPG dataset can be viewed online at  \n",
        "https://github.com/mwaskom/seaborn-data/blob/master/mpg.csv"
      ]
    },
    {
      "cell_type": "markdown",
      "metadata": {
        "id": "ZzRgjAwp9hYw"
      },
      "source": [
        "## Data Exploration - Pandas Review"
      ]
    },
    {
      "cell_type": "markdown",
      "metadata": {
        "id": "ESV9y917bfCt"
      },
      "source": [
        "### Show the first 5 rows of the dataset"
      ]
    },
    {
      "cell_type": "code",
      "execution_count": 5,
      "metadata": {
        "id": "iKKH1ZrrbfCt",
        "outputId": "5ee922f9-94ea-4d47-ee8b-297a58e62882",
        "colab": {
          "base_uri": "https://localhost:8080/",
          "height": 73
        }
      },
      "outputs": [
        {
          "output_type": "display_data",
          "data": {
            "text/plain": [
              "<IPython.core.display.HTML object>"
            ],
            "text/html": [
              "\n",
              "     <input type=\"file\" id=\"files-93992f30-b1d6-40fa-8a85-db4c30d3c742\" name=\"files[]\" multiple disabled\n",
              "        style=\"border:none\" />\n",
              "     <output id=\"result-93992f30-b1d6-40fa-8a85-db4c30d3c742\">\n",
              "      Upload widget is only available when the cell has been executed in the\n",
              "      current browser session. Please rerun this cell to enable.\n",
              "      </output>\n",
              "      <script>// Copyright 2017 Google LLC\n",
              "//\n",
              "// Licensed under the Apache License, Version 2.0 (the \"License\");\n",
              "// you may not use this file except in compliance with the License.\n",
              "// You may obtain a copy of the License at\n",
              "//\n",
              "//      http://www.apache.org/licenses/LICENSE-2.0\n",
              "//\n",
              "// Unless required by applicable law or agreed to in writing, software\n",
              "// distributed under the License is distributed on an \"AS IS\" BASIS,\n",
              "// WITHOUT WARRANTIES OR CONDITIONS OF ANY KIND, either express or implied.\n",
              "// See the License for the specific language governing permissions and\n",
              "// limitations under the License.\n",
              "\n",
              "/**\n",
              " * @fileoverview Helpers for google.colab Python module.\n",
              " */\n",
              "(function(scope) {\n",
              "function span(text, styleAttributes = {}) {\n",
              "  const element = document.createElement('span');\n",
              "  element.textContent = text;\n",
              "  for (const key of Object.keys(styleAttributes)) {\n",
              "    element.style[key] = styleAttributes[key];\n",
              "  }\n",
              "  return element;\n",
              "}\n",
              "\n",
              "// Max number of bytes which will be uploaded at a time.\n",
              "const MAX_PAYLOAD_SIZE = 100 * 1024;\n",
              "\n",
              "function _uploadFiles(inputId, outputId) {\n",
              "  const steps = uploadFilesStep(inputId, outputId);\n",
              "  const outputElement = document.getElementById(outputId);\n",
              "  // Cache steps on the outputElement to make it available for the next call\n",
              "  // to uploadFilesContinue from Python.\n",
              "  outputElement.steps = steps;\n",
              "\n",
              "  return _uploadFilesContinue(outputId);\n",
              "}\n",
              "\n",
              "// This is roughly an async generator (not supported in the browser yet),\n",
              "// where there are multiple asynchronous steps and the Python side is going\n",
              "// to poll for completion of each step.\n",
              "// This uses a Promise to block the python side on completion of each step,\n",
              "// then passes the result of the previous step as the input to the next step.\n",
              "function _uploadFilesContinue(outputId) {\n",
              "  const outputElement = document.getElementById(outputId);\n",
              "  const steps = outputElement.steps;\n",
              "\n",
              "  const next = steps.next(outputElement.lastPromiseValue);\n",
              "  return Promise.resolve(next.value.promise).then((value) => {\n",
              "    // Cache the last promise value to make it available to the next\n",
              "    // step of the generator.\n",
              "    outputElement.lastPromiseValue = value;\n",
              "    return next.value.response;\n",
              "  });\n",
              "}\n",
              "\n",
              "/**\n",
              " * Generator function which is called between each async step of the upload\n",
              " * process.\n",
              " * @param {string} inputId Element ID of the input file picker element.\n",
              " * @param {string} outputId Element ID of the output display.\n",
              " * @return {!Iterable<!Object>} Iterable of next steps.\n",
              " */\n",
              "function* uploadFilesStep(inputId, outputId) {\n",
              "  const inputElement = document.getElementById(inputId);\n",
              "  inputElement.disabled = false;\n",
              "\n",
              "  const outputElement = document.getElementById(outputId);\n",
              "  outputElement.innerHTML = '';\n",
              "\n",
              "  const pickedPromise = new Promise((resolve) => {\n",
              "    inputElement.addEventListener('change', (e) => {\n",
              "      resolve(e.target.files);\n",
              "    });\n",
              "  });\n",
              "\n",
              "  const cancel = document.createElement('button');\n",
              "  inputElement.parentElement.appendChild(cancel);\n",
              "  cancel.textContent = 'Cancel upload';\n",
              "  const cancelPromise = new Promise((resolve) => {\n",
              "    cancel.onclick = () => {\n",
              "      resolve(null);\n",
              "    };\n",
              "  });\n",
              "\n",
              "  // Wait for the user to pick the files.\n",
              "  const files = yield {\n",
              "    promise: Promise.race([pickedPromise, cancelPromise]),\n",
              "    response: {\n",
              "      action: 'starting',\n",
              "    }\n",
              "  };\n",
              "\n",
              "  cancel.remove();\n",
              "\n",
              "  // Disable the input element since further picks are not allowed.\n",
              "  inputElement.disabled = true;\n",
              "\n",
              "  if (!files) {\n",
              "    return {\n",
              "      response: {\n",
              "        action: 'complete',\n",
              "      }\n",
              "    };\n",
              "  }\n",
              "\n",
              "  for (const file of files) {\n",
              "    const li = document.createElement('li');\n",
              "    li.append(span(file.name, {fontWeight: 'bold'}));\n",
              "    li.append(span(\n",
              "        `(${file.type || 'n/a'}) - ${file.size} bytes, ` +\n",
              "        `last modified: ${\n",
              "            file.lastModifiedDate ? file.lastModifiedDate.toLocaleDateString() :\n",
              "                                    'n/a'} - `));\n",
              "    const percent = span('0% done');\n",
              "    li.appendChild(percent);\n",
              "\n",
              "    outputElement.appendChild(li);\n",
              "\n",
              "    const fileDataPromise = new Promise((resolve) => {\n",
              "      const reader = new FileReader();\n",
              "      reader.onload = (e) => {\n",
              "        resolve(e.target.result);\n",
              "      };\n",
              "      reader.readAsArrayBuffer(file);\n",
              "    });\n",
              "    // Wait for the data to be ready.\n",
              "    let fileData = yield {\n",
              "      promise: fileDataPromise,\n",
              "      response: {\n",
              "        action: 'continue',\n",
              "      }\n",
              "    };\n",
              "\n",
              "    // Use a chunked sending to avoid message size limits. See b/62115660.\n",
              "    let position = 0;\n",
              "    do {\n",
              "      const length = Math.min(fileData.byteLength - position, MAX_PAYLOAD_SIZE);\n",
              "      const chunk = new Uint8Array(fileData, position, length);\n",
              "      position += length;\n",
              "\n",
              "      const base64 = btoa(String.fromCharCode.apply(null, chunk));\n",
              "      yield {\n",
              "        response: {\n",
              "          action: 'append',\n",
              "          file: file.name,\n",
              "          data: base64,\n",
              "        },\n",
              "      };\n",
              "\n",
              "      let percentDone = fileData.byteLength === 0 ?\n",
              "          100 :\n",
              "          Math.round((position / fileData.byteLength) * 100);\n",
              "      percent.textContent = `${percentDone}% done`;\n",
              "\n",
              "    } while (position < fileData.byteLength);\n",
              "  }\n",
              "\n",
              "  // All done.\n",
              "  yield {\n",
              "    response: {\n",
              "      action: 'complete',\n",
              "    }\n",
              "  };\n",
              "}\n",
              "\n",
              "scope.google = scope.google || {};\n",
              "scope.google.colab = scope.google.colab || {};\n",
              "scope.google.colab._files = {\n",
              "  _uploadFiles,\n",
              "  _uploadFilesContinue,\n",
              "};\n",
              "})(self);\n",
              "</script> "
            ]
          },
          "metadata": {}
        },
        {
          "output_type": "stream",
          "name": "stdout",
          "text": [
            "Saving mpg.csv to mpg.csv\n"
          ]
        }
      ],
      "source": [
        "from google.colab import files\n",
        "uploaded = files.upload()\n"
      ]
    },
    {
      "cell_type": "code",
      "source": [
        "import pandas as pd\n",
        "df = pd.read_csv(\"mpg.csv\")\n",
        "print(df.head())\n"
      ],
      "metadata": {
        "id": "EdIRYakXWwIt",
        "outputId": "a994bbe6-d83d-41b9-f0fd-3c45d91519e7",
        "colab": {
          "base_uri": "https://localhost:8080/"
        }
      },
      "execution_count": 6,
      "outputs": [
        {
          "output_type": "stream",
          "name": "stdout",
          "text": [
            "    mpg  cylinders  displacement  horsepower  weight  acceleration  \\\n",
            "0  18.0          8         307.0       130.0    3504          12.0   \n",
            "1  15.0          8         350.0       165.0    3693          11.5   \n",
            "2  18.0          8         318.0       150.0    3436          11.0   \n",
            "3  16.0          8         304.0       150.0    3433          12.0   \n",
            "4  17.0          8         302.0       140.0    3449          10.5   \n",
            "\n",
            "   model_year origin                       name  \n",
            "0          70    usa  chevrolet chevelle malibu  \n",
            "1          70    usa          buick skylark 320  \n",
            "2          70    usa         plymouth satellite  \n",
            "3          70    usa              amc rebel sst  \n",
            "4          70    usa                ford torino  \n"
          ]
        }
      ]
    },
    {
      "cell_type": "markdown",
      "metadata": {
        "id": "p5UukwBAdgXb"
      },
      "source": [
        "### Show the size of the dataframe"
      ]
    },
    {
      "cell_type": "code",
      "execution_count": 7,
      "metadata": {
        "id": "1hfYc4Zdd1iL",
        "outputId": "73b1f098-537f-4c0e-d8fc-412f917eb6f8",
        "colab": {
          "base_uri": "https://localhost:8080/"
        }
      },
      "outputs": [
        {
          "output_type": "execute_result",
          "data": {
            "text/plain": [
              "(398, 9)"
            ]
          },
          "metadata": {},
          "execution_count": 7
        }
      ],
      "source": [
        "df_shape = df.shape\n",
        "df_shape"
      ]
    },
    {
      "cell_type": "markdown",
      "metadata": {
        "id": "l4UwwzRrd9WY"
      },
      "source": [
        "[link text](https://)### Find the columns name and their types (numerical or categorical)"
      ]
    },
    {
      "cell_type": "code",
      "source": [
        "import pandas as pd\n",
        "from google.colab import files\n",
        "uploaded = files.upload()\n",
        "\n",
        "df = pd.read_csv(\"mpg.csv\")\n",
        "\n",
        "column_types = df.dtypes.apply(lambda x: 'numerical' if pd.api.types.is_numeric_dtype(x) else 'categorical')\n",
        "\n",
        "print(column_types)\n"
      ],
      "metadata": {
        "id": "tKwuG4NiXe4a",
        "outputId": "6ddac836-bb08-4270-e82b-06290a132dbb",
        "colab": {
          "base_uri": "https://localhost:8080/",
          "height": 247
        }
      },
      "execution_count": 12,
      "outputs": [
        {
          "output_type": "display_data",
          "data": {
            "text/plain": [
              "<IPython.core.display.HTML object>"
            ],
            "text/html": [
              "\n",
              "     <input type=\"file\" id=\"files-0f645819-2952-41a7-8509-f7c0204ad0b1\" name=\"files[]\" multiple disabled\n",
              "        style=\"border:none\" />\n",
              "     <output id=\"result-0f645819-2952-41a7-8509-f7c0204ad0b1\">\n",
              "      Upload widget is only available when the cell has been executed in the\n",
              "      current browser session. Please rerun this cell to enable.\n",
              "      </output>\n",
              "      <script>// Copyright 2017 Google LLC\n",
              "//\n",
              "// Licensed under the Apache License, Version 2.0 (the \"License\");\n",
              "// you may not use this file except in compliance with the License.\n",
              "// You may obtain a copy of the License at\n",
              "//\n",
              "//      http://www.apache.org/licenses/LICENSE-2.0\n",
              "//\n",
              "// Unless required by applicable law or agreed to in writing, software\n",
              "// distributed under the License is distributed on an \"AS IS\" BASIS,\n",
              "// WITHOUT WARRANTIES OR CONDITIONS OF ANY KIND, either express or implied.\n",
              "// See the License for the specific language governing permissions and\n",
              "// limitations under the License.\n",
              "\n",
              "/**\n",
              " * @fileoverview Helpers for google.colab Python module.\n",
              " */\n",
              "(function(scope) {\n",
              "function span(text, styleAttributes = {}) {\n",
              "  const element = document.createElement('span');\n",
              "  element.textContent = text;\n",
              "  for (const key of Object.keys(styleAttributes)) {\n",
              "    element.style[key] = styleAttributes[key];\n",
              "  }\n",
              "  return element;\n",
              "}\n",
              "\n",
              "// Max number of bytes which will be uploaded at a time.\n",
              "const MAX_PAYLOAD_SIZE = 100 * 1024;\n",
              "\n",
              "function _uploadFiles(inputId, outputId) {\n",
              "  const steps = uploadFilesStep(inputId, outputId);\n",
              "  const outputElement = document.getElementById(outputId);\n",
              "  // Cache steps on the outputElement to make it available for the next call\n",
              "  // to uploadFilesContinue from Python.\n",
              "  outputElement.steps = steps;\n",
              "\n",
              "  return _uploadFilesContinue(outputId);\n",
              "}\n",
              "\n",
              "// This is roughly an async generator (not supported in the browser yet),\n",
              "// where there are multiple asynchronous steps and the Python side is going\n",
              "// to poll for completion of each step.\n",
              "// This uses a Promise to block the python side on completion of each step,\n",
              "// then passes the result of the previous step as the input to the next step.\n",
              "function _uploadFilesContinue(outputId) {\n",
              "  const outputElement = document.getElementById(outputId);\n",
              "  const steps = outputElement.steps;\n",
              "\n",
              "  const next = steps.next(outputElement.lastPromiseValue);\n",
              "  return Promise.resolve(next.value.promise).then((value) => {\n",
              "    // Cache the last promise value to make it available to the next\n",
              "    // step of the generator.\n",
              "    outputElement.lastPromiseValue = value;\n",
              "    return next.value.response;\n",
              "  });\n",
              "}\n",
              "\n",
              "/**\n",
              " * Generator function which is called between each async step of the upload\n",
              " * process.\n",
              " * @param {string} inputId Element ID of the input file picker element.\n",
              " * @param {string} outputId Element ID of the output display.\n",
              " * @return {!Iterable<!Object>} Iterable of next steps.\n",
              " */\n",
              "function* uploadFilesStep(inputId, outputId) {\n",
              "  const inputElement = document.getElementById(inputId);\n",
              "  inputElement.disabled = false;\n",
              "\n",
              "  const outputElement = document.getElementById(outputId);\n",
              "  outputElement.innerHTML = '';\n",
              "\n",
              "  const pickedPromise = new Promise((resolve) => {\n",
              "    inputElement.addEventListener('change', (e) => {\n",
              "      resolve(e.target.files);\n",
              "    });\n",
              "  });\n",
              "\n",
              "  const cancel = document.createElement('button');\n",
              "  inputElement.parentElement.appendChild(cancel);\n",
              "  cancel.textContent = 'Cancel upload';\n",
              "  const cancelPromise = new Promise((resolve) => {\n",
              "    cancel.onclick = () => {\n",
              "      resolve(null);\n",
              "    };\n",
              "  });\n",
              "\n",
              "  // Wait for the user to pick the files.\n",
              "  const files = yield {\n",
              "    promise: Promise.race([pickedPromise, cancelPromise]),\n",
              "    response: {\n",
              "      action: 'starting',\n",
              "    }\n",
              "  };\n",
              "\n",
              "  cancel.remove();\n",
              "\n",
              "  // Disable the input element since further picks are not allowed.\n",
              "  inputElement.disabled = true;\n",
              "\n",
              "  if (!files) {\n",
              "    return {\n",
              "      response: {\n",
              "        action: 'complete',\n",
              "      }\n",
              "    };\n",
              "  }\n",
              "\n",
              "  for (const file of files) {\n",
              "    const li = document.createElement('li');\n",
              "    li.append(span(file.name, {fontWeight: 'bold'}));\n",
              "    li.append(span(\n",
              "        `(${file.type || 'n/a'}) - ${file.size} bytes, ` +\n",
              "        `last modified: ${\n",
              "            file.lastModifiedDate ? file.lastModifiedDate.toLocaleDateString() :\n",
              "                                    'n/a'} - `));\n",
              "    const percent = span('0% done');\n",
              "    li.appendChild(percent);\n",
              "\n",
              "    outputElement.appendChild(li);\n",
              "\n",
              "    const fileDataPromise = new Promise((resolve) => {\n",
              "      const reader = new FileReader();\n",
              "      reader.onload = (e) => {\n",
              "        resolve(e.target.result);\n",
              "      };\n",
              "      reader.readAsArrayBuffer(file);\n",
              "    });\n",
              "    // Wait for the data to be ready.\n",
              "    let fileData = yield {\n",
              "      promise: fileDataPromise,\n",
              "      response: {\n",
              "        action: 'continue',\n",
              "      }\n",
              "    };\n",
              "\n",
              "    // Use a chunked sending to avoid message size limits. See b/62115660.\n",
              "    let position = 0;\n",
              "    do {\n",
              "      const length = Math.min(fileData.byteLength - position, MAX_PAYLOAD_SIZE);\n",
              "      const chunk = new Uint8Array(fileData, position, length);\n",
              "      position += length;\n",
              "\n",
              "      const base64 = btoa(String.fromCharCode.apply(null, chunk));\n",
              "      yield {\n",
              "        response: {\n",
              "          action: 'append',\n",
              "          file: file.name,\n",
              "          data: base64,\n",
              "        },\n",
              "      };\n",
              "\n",
              "      let percentDone = fileData.byteLength === 0 ?\n",
              "          100 :\n",
              "          Math.round((position / fileData.byteLength) * 100);\n",
              "      percent.textContent = `${percentDone}% done`;\n",
              "\n",
              "    } while (position < fileData.byteLength);\n",
              "  }\n",
              "\n",
              "  // All done.\n",
              "  yield {\n",
              "    response: {\n",
              "      action: 'complete',\n",
              "    }\n",
              "  };\n",
              "}\n",
              "\n",
              "scope.google = scope.google || {};\n",
              "scope.google.colab = scope.google.colab || {};\n",
              "scope.google.colab._files = {\n",
              "  _uploadFiles,\n",
              "  _uploadFilesContinue,\n",
              "};\n",
              "})(self);\n",
              "</script> "
            ]
          },
          "metadata": {}
        },
        {
          "output_type": "stream",
          "name": "stdout",
          "text": [
            "Saving mpg.csv to mpg (2).csv\n",
            "mpg               numerical\n",
            "cylinders         numerical\n",
            "displacement      numerical\n",
            "horsepower        numerical\n",
            "weight            numerical\n",
            "acceleration      numerical\n",
            "model_year        numerical\n",
            "origin          categorical\n",
            "name            categorical\n",
            "dtype: object\n"
          ]
        }
      ]
    },
    {
      "cell_type": "markdown",
      "metadata": {
        "id": "heVHvJgZhc53"
      },
      "source": [
        "### Find the number of missing values in each column"
      ]
    },
    {
      "cell_type": "code",
      "execution_count": 15,
      "metadata": {
        "id": "imTo-ss8hy48",
        "outputId": "3b754e65-df70-49fe-cd35-394b8c3ba83b",
        "colab": {
          "base_uri": "https://localhost:8080/"
        }
      },
      "outputs": [
        {
          "output_type": "stream",
          "name": "stdout",
          "text": [
            "mpg             0\n",
            "cylinders       0\n",
            "displacement    0\n",
            "horsepower      6\n",
            "weight          0\n",
            "acceleration    0\n",
            "model_year      0\n",
            "origin          0\n",
            "name            0\n",
            "dtype: int64\n"
          ]
        }
      ],
      "source": [
        "\n",
        "missing_values = df.isnull().sum()\n",
        "print(missing_values)\n"
      ]
    },
    {
      "cell_type": "markdown",
      "metadata": {
        "id": "bJyFFJi_j186"
      },
      "source": [
        "### Handle the missing values in the dataframe"
      ]
    },
    {
      "cell_type": "markdown",
      "metadata": {
        "id": "695skg69ikSP"
      },
      "source": [
        "Since the number of missing values is low, we can simply drop the rows containing them. However, as a practice and review, let's substitute the missing values in the numerical columns (if any) with the mean of the respective column and the missing values in the categorical columns (if any) with the median of the respective column."
      ]
    },
    {
      "cell_type": "code",
      "execution_count": 16,
      "metadata": {
        "id": "aE2UQsu0j843",
        "outputId": "648d5fb9-f62e-4198-c1db-99ded4d5a326",
        "colab": {
          "base_uri": "https://localhost:8080/"
        }
      },
      "outputs": [
        {
          "output_type": "stream",
          "name": "stdout",
          "text": [
            "Missing values after handling:\n",
            "mpg             0\n",
            "cylinders       0\n",
            "displacement    0\n",
            "horsepower      0\n",
            "weight          0\n",
            "acceleration    0\n",
            "model_year      0\n",
            "origin          0\n",
            "name            0\n",
            "dtype: int64\n",
            "Cleaned dataset saved as mpg_cleaned.csv\n"
          ]
        }
      ],
      "source": [
        "\n",
        "numerical_cols = df.select_dtypes(include=['number']).columns\n",
        "categorical_cols = df.select_dtypes(exclude=['number']).columns\n",
        "\n",
        "df[numerical_cols] = df[numerical_cols].apply(lambda col: col.fillna(col.mean()))  # Replace missing numerical values with column mean\n",
        "df[categorical_cols] = df[categorical_cols].apply(lambda col: col.fillna(col.mode()[0]))  # Replace missing categorical values with mode\n",
        "\n",
        "print(\"Missing values after handling:\")\n",
        "print(df.isnull().sum())\n",
        "\n",
        "df.to_csv(\"mpg_cleaned.csv\", index=False)\n",
        "print(\"Cleaned dataset saved as mpg_cleaned.csv\")\n"
      ]
    },
    {
      "cell_type": "markdown",
      "metadata": {
        "id": "mXeUz8BArqXK"
      },
      "source": [
        "### Compute the average and the median weight"
      ]
    },
    {
      "cell_type": "code",
      "execution_count": 17,
      "metadata": {
        "id": "VuzHC1werwiv",
        "outputId": "3c07ebda-7096-44cf-9cfe-764addcbd13c",
        "colab": {
          "base_uri": "https://localhost:8080/"
        }
      },
      "outputs": [
        {
          "output_type": "execute_result",
          "data": {
            "text/plain": [
              "(2970.424623115578, 2803.5)"
            ]
          },
          "metadata": {},
          "execution_count": 17
        }
      ],
      "source": [
        "average_weight = df['weight'].mean()\n",
        "median_weight = df['weight'].median()\n",
        "\n",
        "average_weight, median_weight\n"
      ]
    },
    {
      "cell_type": "markdown",
      "metadata": {
        "id": "eb5hLSIYsZE1"
      },
      "source": [
        "### Find the number of cars that weight more than 2000 kgs"
      ]
    },
    {
      "cell_type": "code",
      "execution_count": 18,
      "metadata": {
        "id": "eDfsiR1Ysf0q",
        "outputId": "acf77f47-c366-436b-e8d6-9e9e9bad1daa",
        "colab": {
          "base_uri": "https://localhost:8080/"
        }
      },
      "outputs": [
        {
          "output_type": "stream",
          "name": "stdout",
          "text": [
            "Number of cars that weigh more than 2000 kg: 26\n"
          ]
        }
      ],
      "source": [
        "df = pd.read_csv(\"mpg.csv\")\n",
        "\n",
        "df['weight_kg'] = df['weight'] * 0.453592\n",
        "\n",
        "heavy_cars_count = (df['weight_kg'] > 2000).sum()\n",
        "\n",
        "print(f\"Number of cars that weigh more than 2000 kg: {heavy_cars_count}\")"
      ]
    },
    {
      "cell_type": "markdown",
      "metadata": {
        "id": "f3nE8VBksl20"
      },
      "source": [
        "### Find how many cars there are for each number of cylinders"
      ]
    },
    {
      "cell_type": "code",
      "execution_count": 19,
      "metadata": {
        "id": "-865t6xpsy4c",
        "outputId": "5c4fbe54-9cf9-422e-c3c3-9511702eb65c",
        "colab": {
          "base_uri": "https://localhost:8080/"
        }
      },
      "outputs": [
        {
          "output_type": "stream",
          "name": "stdout",
          "text": [
            "Number of cars for each cylinder count:\n",
            "cylinders\n",
            "4    204\n",
            "8    103\n",
            "6     84\n",
            "3      4\n",
            "5      3\n",
            "Name: count, dtype: int64\n"
          ]
        }
      ],
      "source": [
        "cylinder_counts = df['cylinders'].value_counts()\n",
        "\n",
        "print(\"Number of cars for each cylinder count:\")\n",
        "print(cylinder_counts)"
      ]
    },
    {
      "cell_type": "markdown",
      "metadata": {
        "id": "x4ofBIrVtQRS"
      },
      "source": [
        "### Find what are the car models with number of cylinders (3 or 5)"
      ]
    },
    {
      "cell_type": "code",
      "execution_count": 20,
      "metadata": {
        "id": "CtKqSLQxtOOb",
        "outputId": "390fbf6f-7cba-40b1-f650-dc604feabaea",
        "colab": {
          "base_uri": "https://localhost:8080/"
        }
      },
      "outputs": [
        {
          "output_type": "stream",
          "name": "stdout",
          "text": [
            "Car models with 3 or 5 cylinders:\n",
            "                    name  cylinders\n",
            "71       mazda rx2 coupe          3\n",
            "111            maxda rx3          3\n",
            "243           mazda rx-4          3\n",
            "274            audi 5000          5\n",
            "297   mercedes benz 300d          5\n",
            "327  audi 5000s (diesel)          5\n",
            "334        mazda rx-7 gs          3\n"
          ]
        }
      ],
      "source": [
        "filtered_cars = df[df['cylinders'].isin([3, 5])]\n",
        "\n",
        "print(\"Car models with 3 or 5 cylinders:\")\n",
        "print(filtered_cars[['name', 'cylinders']])"
      ]
    },
    {
      "cell_type": "markdown",
      "metadata": {
        "id": "35WxtvxtU-X_"
      },
      "source": [
        "### Show the `value_counts()` of `origin` column or show the unique values of this column."
      ]
    },
    {
      "cell_type": "code",
      "execution_count": 21,
      "metadata": {
        "id": "UoQRTFJBU-tF",
        "outputId": "dab0e31a-ec71-4bf5-e1f1-27520a5fc2d5",
        "colab": {
          "base_uri": "https://localhost:8080/"
        }
      },
      "outputs": [
        {
          "output_type": "stream",
          "name": "stdout",
          "text": [
            "Unique values in the 'origin' column: ['usa' 'japan' 'europe']\n",
            "\n",
            "Number of cars from each origin:\n",
            "origin\n",
            "usa       249\n",
            "japan      79\n",
            "europe     70\n",
            "Name: count, dtype: int64\n"
          ]
        }
      ],
      "source": [
        "unique_origins = df['origin'].unique()\n",
        "print(\"Unique values in the 'origin' column:\", unique_origins)\n",
        "\n",
        "origin_counts = df['origin'].value_counts()\n",
        "print(\"\\nNumber of cars from each origin:\")\n",
        "print(origin_counts)"
      ]
    },
    {
      "cell_type": "markdown",
      "metadata": {
        "id": "QGRxYTsrXLJf"
      },
      "source": [
        "## Data Preprocessing"
      ]
    },
    {
      "cell_type": "markdown",
      "metadata": {
        "id": "FzIQgkXiVYBX"
      },
      "source": [
        "### Use one hot encoding to change the categorical values of `origin` column to numerical values.\n",
        "\n",
        "- use `pd.get_dummies()` method to do the encoding"
      ]
    },
    {
      "cell_type": "code",
      "execution_count": 22,
      "metadata": {
        "id": "Zh3FIu5KOoYS",
        "outputId": "183a8029-09d0-4b9b-b668-1353072c920d",
        "colab": {
          "base_uri": "https://localhost:8080/"
        }
      },
      "outputs": [
        {
          "output_type": "stream",
          "name": "stdout",
          "text": [
            "Dataset after one-hot encoding on 'origin' column:\n",
            "    mpg  cylinders  displacement  horsepower  weight  acceleration  \\\n",
            "0  18.0          8         307.0       130.0    3504          12.0   \n",
            "1  15.0          8         350.0       165.0    3693          11.5   \n",
            "2  18.0          8         318.0       150.0    3436          11.0   \n",
            "3  16.0          8         304.0       150.0    3433          12.0   \n",
            "4  17.0          8         302.0       140.0    3449          10.5   \n",
            "\n",
            "   model_year                       name    weight_kg  origin_europe  \\\n",
            "0          70  chevrolet chevelle malibu  1589.386368          False   \n",
            "1          70          buick skylark 320  1675.115256          False   \n",
            "2          70         plymouth satellite  1558.542112          False   \n",
            "3          70              amc rebel sst  1557.181336          False   \n",
            "4          70                ford torino  1564.438808          False   \n",
            "\n",
            "   origin_japan  origin_usa  \n",
            "0         False        True  \n",
            "1         False        True  \n",
            "2         False        True  \n",
            "3         False        True  \n",
            "4         False        True  \n"
          ]
        }
      ],
      "source": [
        "df_encoded = pd.get_dummies(df, columns=['origin'], prefix='origin')\n",
        "\n",
        "print(\"Dataset after one-hot encoding on 'origin' column:\")\n",
        "print(df_encoded.head())"
      ]
    },
    {
      "cell_type": "markdown",
      "metadata": {
        "id": "AtLp74JWXPp6"
      },
      "source": [
        "### Remove the name column form the dataframe to have all numerical dataframe."
      ]
    },
    {
      "cell_type": "code",
      "execution_count": 23,
      "metadata": {
        "id": "V1A0DsEVXgXm",
        "outputId": "3a0ac921-48ec-4afc-9dc3-ca6f2bce4887",
        "colab": {
          "base_uri": "https://localhost:8080/"
        }
      },
      "outputs": [
        {
          "output_type": "stream",
          "name": "stdout",
          "text": [
            "DataFrame after removing the 'name' column:\n",
            "    mpg  cylinders  displacement  horsepower  weight  acceleration  \\\n",
            "0  18.0          8         307.0       130.0    3504          12.0   \n",
            "1  15.0          8         350.0       165.0    3693          11.5   \n",
            "2  18.0          8         318.0       150.0    3436          11.0   \n",
            "3  16.0          8         304.0       150.0    3433          12.0   \n",
            "4  17.0          8         302.0       140.0    3449          10.5   \n",
            "\n",
            "   model_year origin    weight_kg  \n",
            "0          70    usa  1589.386368  \n",
            "1          70    usa  1675.115256  \n",
            "2          70    usa  1558.542112  \n",
            "3          70    usa  1557.181336  \n",
            "4          70    usa  1564.438808  \n"
          ]
        }
      ],
      "source": [
        "df_numeric = df.drop(columns=['name'])\n",
        "\n",
        "print(\"DataFrame after removing the 'name' column:\")\n",
        "print(df_numeric.head())"
      ]
    },
    {
      "cell_type": "markdown",
      "metadata": {
        "id": "VuJ1dAYdY8JM"
      },
      "source": [
        "### Does the input needs reshaping?"
      ]
    },
    {
      "cell_type": "code",
      "execution_count": 24,
      "metadata": {
        "id": "F68KMJTztVzS"
      },
      "outputs": [],
      "source": [
        "# If using a Dense NN → NO reshaping needed.\n",
        "# If using CNN or LSTM → YES, reshape needed."
      ]
    },
    {
      "cell_type": "markdown",
      "metadata": {
        "id": "xDwS5PqJaqb7"
      },
      "source": [
        "### Split the data into training and test sets and form `train_features`, `train_labels`, `test_features`, `test_labels`"
      ]
    },
    {
      "cell_type": "code",
      "execution_count": 25,
      "metadata": {
        "id": "SZPxsIJcapzq",
        "outputId": "ff4dd897-0a8d-47a1-f10e-e1217eeb6555",
        "colab": {
          "base_uri": "https://localhost:8080/"
        }
      },
      "outputs": [
        {
          "output_type": "stream",
          "name": "stdout",
          "text": [
            "Train Features Shape: (318, 8)\n",
            "Train Labels Shape: (318,)\n",
            "Test Features Shape: (80, 8)\n",
            "Test Labels Shape: (80,)\n"
          ]
        }
      ],
      "source": [
        "from sklearn.model_selection import train_test_split\n",
        "#your code here\n",
        "\n",
        "\n",
        "df = df.drop(columns=['name'])\n",
        "X = df.drop(columns=['mpg'])\n",
        "y = df['mpg']\n",
        "\n",
        "train_features, test_features, train_labels, test_labels = train_test_split(X, y, test_size=0.2, random_state=42)\n",
        "\n",
        "print(\"Train Features Shape:\", train_features.shape)\n",
        "print(\"Train Labels Shape:\", train_labels.shape)\n",
        "print(\"Test Features Shape:\", test_features.shape)\n",
        "print(\"Test Labels Shape:\", test_labels.shape)"
      ]
    },
    {
      "cell_type": "markdown",
      "metadata": {
        "id": "ePcXIunjxLGW"
      },
      "source": [
        "### For simplicity in the following steps, convert the dataset from a pandas DataFrame to a numpy array."
      ]
    },
    {
      "cell_type": "code",
      "execution_count": 26,
      "metadata": {
        "id": "zHAfvRbkxfeH"
      },
      "outputs": [],
      "source": [
        "train_features = np.array(train_features)\n",
        "train_labels = np.array(train_labels)\n",
        "test_features = np.array(test_features)\n",
        "test_labels = np.array(test_labels)"
      ]
    },
    {
      "cell_type": "markdown",
      "metadata": {
        "id": "cCfztMDkyeLX"
      },
      "source": [
        "## Normalization layer"
      ]
    },
    {
      "cell_type": "markdown",
      "metadata": {
        "id": "tWPepaJ20buG"
      },
      "source": [
        "To ensure stable training of neural networks, we typically normalize the data. This process also enhances the convergence of the gradient descent algorithm.\n",
        "\n",
        "There is not single way to normalize the data. You can also use `scikit-learn `or `pandas` to do it. However, in this lab, we will use the normalization layer provided by tensorflow which matches the other parts of the model."
      ]
    },
    {
      "cell_type": "markdown",
      "metadata": {
        "id": "BfuJRF3syqJL"
      },
      "source": [
        "The `tf.keras.layers.Normalization` is a clean and simple way to add feature normalization into your model.\n",
        "\n",
        "The first step is to create the layer:"
      ]
    },
    {
      "cell_type": "code",
      "execution_count": 31,
      "metadata": {
        "id": "GAOoajCuyiAa"
      },
      "outputs": [],
      "source": [
        "normalizer = tf.keras.layers.Normalization(axis=-1)"
      ]
    },
    {
      "cell_type": "markdown",
      "metadata": {
        "id": "IsvUWg8dy8TA"
      },
      "source": [
        "Then, fit the state of the preprocessing layer to the data by calling `Normalization.adapt`.\n",
        "\n",
        "It calculates the mean and variance of each feature, and store them in the layer"
      ]
    },
    {
      "cell_type": "code",
      "source": [
        "normalizer.adapt(train_features)"
      ],
      "metadata": {
        "id": "PGqeRKMdbBX6"
      },
      "execution_count": null,
      "outputs": []
    },
    {
      "cell_type": "markdown",
      "metadata": {
        "id": "GQqwlS4HzXeM"
      },
      "source": [
        "When the layer is called, it returns the input data, with each feature independently normalized."
      ]
    },
    {
      "cell_type": "code",
      "source": [
        "first = train_features[0]\n",
        "print('First example:', first)\n",
        "print()\n",
        "print('Normalized:', normalizer(first).numpy())"
      ],
      "metadata": {
        "id": "7sh2A8oxbEET"
      },
      "execution_count": null,
      "outputs": []
    },
    {
      "cell_type": "markdown",
      "metadata": {
        "id": "_8u33n29vmFJ"
      },
      "source": [
        "## **Approach #1:** Regression using `Linear Regression`"
      ]
    },
    {
      "cell_type": "markdown",
      "metadata": {
        "id": "G6anRxth1MXq"
      },
      "source": [
        "**You are welcome to use scikit-learn to perform linear regression on this dataset.**\n",
        "\n",
        "However, here we aim to implement it using TensorFlow.\n",
        "\n",
        "- As we saw in Lab Week 2, `logistic regression` is essentially a single neuron with a `sigmoid` activation function.\n",
        "\n",
        "- Similarly, `linear regression` can be viewed as a single neuron with a `linear` activation function."
      ]
    },
    {
      "cell_type": "markdown",
      "metadata": {
        "id": "ZbWqUxQa2jjY"
      },
      "source": [
        "### **Step 1:** Linear regression model architecture"
      ]
    },
    {
      "cell_type": "code",
      "execution_count": 33,
      "metadata": {
        "id": "YG9lzGcf2H9o"
      },
      "outputs": [],
      "source": [
        "linear_model = tf.keras.Sequential([\n",
        "    normalizer,\n",
        "    layers.Dense(1, activation='linear')\n",
        "])"
      ]
    },
    {
      "cell_type": "markdown",
      "metadata": {
        "id": "qZWUa2QLOoYY"
      },
      "source": [
        "**Note:** You can define your model all at once like the cell above or you can buid the model incrementaly  (suitable for your assignment)"
      ]
    },
    {
      "cell_type": "code",
      "execution_count": 34,
      "metadata": {
        "id": "6CqdbUF7OoYY"
      },
      "outputs": [],
      "source": [
        "# Defining the model incrementaly (suitable for your assignment)\n",
        "linear_model = tf.keras.Sequential()\n",
        "linear_model.add(normalizer)\n",
        "linear_model.add(layers.Dense(1, activation='linear'))"
      ]
    },
    {
      "cell_type": "markdown",
      "metadata": {
        "id": "CpCRMAeW2o0-"
      },
      "source": [
        "### **Step 2:** Configure the model with Keras `Model.compile()`\n",
        "\n",
        "The most important arguments to compile are the `loss` and the `optimizer`, since these define what will be optimized (`\"mean_absolute_error\"`) and how (using the `tf.keras.optimizers.Adam(learning_rate=0.1)`).\n",
        "\n",
        "**arguments:**\n",
        "- optimizer=tf.keras.optimizers.Adam(learning_rate=0.1),\n",
        "- loss='mean_absolute_error'"
      ]
    },
    {
      "cell_type": "code",
      "execution_count": 38,
      "metadata": {
        "id": "aun9zdxH9Mtq"
      },
      "outputs": [],
      "source": []
    },
    {
      "cell_type": "markdown",
      "metadata": {
        "id": "yAwyyRjF4cfv"
      },
      "source": [
        "### **Step 3:** Train the model using the `Model.fit()` for `100` epochs, and store the output in a variable named history."
      ]
    },
    {
      "cell_type": "code",
      "execution_count": 39,
      "metadata": {
        "id": "HbcTeooJ4cxr"
      },
      "outputs": [],
      "source": [
        "history = linear_model.fit(train_features, train_labels, epochs=100)"
      ]
    },
    {
      "cell_type": "code",
      "execution_count": 40,
      "metadata": {
        "id": "LoSWSu4peUmG"
      },
      "outputs": [],
      "source": [
        "history.history"
      ]
    },
    {
      "cell_type": "code",
      "execution_count": null,
      "metadata": {
        "colab": {
          "base_uri": "https://localhost:8080/",
          "height": 449
        },
        "id": "MMO4NC-05bON",
        "outputId": "c814a652-5f9f-42a0-8d77-2a9703d840d5"
      },
      "outputs": [
        {
          "data": {
            "image/png": "[encoded data removed]",
            "text/plain": [
              "<Figure size 640x480 with 1 Axes>"
            ]
          },
          "metadata": {},
          "output_type": "display_data"
        }
      ],
      "source": [
        "def plot_loss(history):\n",
        "  plt.plot(history.history['loss'], label='loss')\n",
        "  plt.xlabel('Epoch')\n",
        "  plt.ylabel('Error [MPG]')\n",
        "  plt.legend()\n",
        "  plt.grid(True)\n",
        "\n",
        "plot_loss(history)"
      ]
    },
    {
      "cell_type": "markdown",
      "metadata": {
        "id": "b3tggfp9OoYa"
      },
      "source": [
        "### Get the model summary"
      ]
    },
    {
      "cell_type": "code",
      "execution_count": null,
      "metadata": {
        "id": "7rb6jj2uOoYa"
      },
      "outputs": [],
      "source": [
        "linear_model.summary()"
      ]
    },
    {
      "cell_type": "markdown",
      "metadata": {
        "id": "ASE-T2jk6cAN"
      },
      "source": [
        "### **Step 4:** Evaluate the linear model on the test set using Keras `Model.evaluate()` and see the `mean_absolute_error` and save the result for future comparison."
      ]
    },
    {
      "cell_type": "code",
      "execution_count": null,
      "metadata": {
        "id": "FgB74EEj9GRJ"
      },
      "outputs": [],
      "source": [
        "test_loss = linear_model.evaluate(test_features, test_labels)\n",
        "\n",
        "linear_regression_mae = test_loss\n",
        "\n",
        "print(f\"Test Mean Absolute Error (MAE): {linear_regression_mae:.2f} MPG\")\n"
      ]
    },
    {
      "cell_type": "markdown",
      "metadata": {
        "id": "SWfd69aOXkQD"
      },
      "source": [
        "## **Approach #2:** Regression using a `Deep Neural Network (DNN)`"
      ]
    },
    {
      "cell_type": "markdown",
      "metadata": {
        "id": "1P1NT4XmYgxv"
      },
      "source": [
        "### Solve the same problem and using deep neural network with the sample architecture;\n",
        "- 1st hidden layer no. of units =  64\n",
        "- 2nd hidden layer no. of units = 64\n",
        "- Choose appropriate `activation` functions for hidden and output layers"
      ]
    },
    {
      "cell_type": "code",
      "execution_count": null,
      "metadata": {
        "id": "HDREKddrYdr5"
      },
      "outputs": [],
      "source": [
        "\n",
        "import tensorflow as tf\n",
        "from tensorflow.keras import layers\n",
        "import matplotlib.pyplot as plt\n",
        "\n",
        "linear_model = tf.keras.Sequential([\n",
        "    normalizer,\n",
        "    layers.Dense(1, activation='linear')\n",
        "])\n",
        "\n",
        "linear_model.compile(\n",
        "    optimizer=tf.keras.optimizers.Adam(learning_rate=0.1),\n",
        "    loss='mean_absolute_error'\n",
        ")\n",
        "\n",
        "history = linear_model.fit(train_features, train_labels, epochs=100, verbose=1)\n",
        "\n",
        "test_loss = linear_model.evaluate(test_features, test_labels)\n",
        "linear_regression_mae = test_loss\n",
        "\n",
        "def plot_loss(history):\n",
        "    plt.plot(history.history['loss'], label='Loss')\n",
        "    plt.xlabel('Epoch')\n",
        "    plt.ylabel('Error [MPG]')\n",
        "    plt.legend()\n",
        "    plt.grid(True)\n",
        "\n",
        "plot_loss(history)\n",
        "\n",
        "dnn_model = tf.keras.Sequential([\n",
        "    normalizer,\n",
        "    layers.Dense(64, activation='relu'),\n",
        "    layers.Dense(64, activation='relu'),\n",
        "    layers.Dense(1, activation='linear')\n",
        "])\n",
        "\n",
        "dnn_model.compile(\n",
        "    optimizer=tf.keras.optimizers.Adam(learning_rate=0.01),\n",
        "    loss='mean_absolute_error'\n",
        ")\n",
        "\n",
        "dnn_history = dnn_model.fit(train_features, train_labels, epochs=100, verbose=1)\n",
        "\n",
        "dnn_test_loss = dnn_model.evaluate(test_features, test_labels)\n",
        "dnn_mae = dnn_test_loss\n",
        "\n",
        "def plot_dnn_loss(history):\n",
        "    plt.plot(history.history['loss'], label='DNN Loss')\n",
        "    plt.xlabel('Epochs')\n",
        "    plt.ylabel('Mean Absolute Error (MPG)')\n",
        "    plt.legend()\n",
        "    plt.grid(True)\n",
        "\n",
        "plot_dnn_loss(dnn_history)\n",
        "\n",
        "print(f\"Test Mean Absolute Error (MAE) for Linear Regression: {linear_regression_mae:.2f} MPG\")\n",
        "print(f\"Test Mean Absolute Error (MAE) for DNN: {dnn_mae:.2f} MPG\")\n"
      ]
    },
    {
      "cell_type": "markdown",
      "metadata": {
        "id": "BoXzXZoSOoYc"
      },
      "source": [
        "### Print the model summary (after training). How many parameters are there in the model?"
      ]
    },
    {
      "cell_type": "code",
      "execution_count": null,
      "metadata": {
        "id": "hg1Qa1T2OoYc"
      },
      "outputs": [],
      "source": [
        "linear_model.summary()"
      ]
    },
    {
      "cell_type": "markdown",
      "metadata": {
        "id": "yyOHle4zOoYc"
      },
      "source": [
        "### You can see even this small model has more than 4000 trainable parameters. The more the number of parameters, the longer the training time and cost. Search the net and see how many trainable parameters does the `ChatGPT` model have? What about `DeepSeek` model? (Optional)"
      ]
    },
    {
      "cell_type": "code",
      "execution_count": null,
      "metadata": {
        "id": "ObmqZVWfOoYd"
      },
      "outputs": [],
      "source": []
    },
    {
      "cell_type": "markdown",
      "metadata": {
        "id": "oX-BabwxGI6B"
      },
      "source": [
        "## Compare the evaluation result of the two approaches, i.e., linear regression and deep neural network."
      ]
    },
    {
      "cell_type": "code",
      "execution_count": null,
      "metadata": {
        "id": "1TA0s5PTGUd5"
      },
      "outputs": [],
      "source": [
        "print(f\"Test Mean Absolute Error (MAE) for Linear Regression: {linear_regression_mae:.2f} MPG\")\n",
        "print(f\"Test Mean Absolute Error (MAE) for Deep Neural Network: {dnn_mae:.2f} MPG\")\n"
      ]
    },
    {
      "cell_type": "markdown",
      "metadata": {
        "id": "QG7EIhSxOoYd"
      },
      "source": [
        "## Use the following large model and evaluate it on the test set."
      ]
    },
    {
      "cell_type": "code",
      "execution_count": null,
      "metadata": {
        "id": "AiSkGIrtOoYd"
      },
      "outputs": [],
      "source": [
        "model_dnn_large = tf.keras.Sequential([\n",
        "    normalizer,\n",
        "    layers.Dense(64, activation='relu'),\n",
        "    layers.Dense(64, activation='relu'),\n",
        "    layers.Dense(64, activation='relu'),\n",
        "    layers.Dense(64, activation='relu'),\n",
        "    layers.Dense(1, activation='linear')\n",
        "])\n",
        "\n",
        "\n",
        "\n",
        "model_dnn_large.compile(\n",
        "    optimizer=tf.keras.optimizers.Adam(learning_rate=0.01),\n",
        "    loss='mean_absolute_error'\n",
        ")\n",
        "\n",
        "large_dnn_history = model_dnn_large.fit(train_features, train_labels, epochs=100, verbose=1)\n",
        "large_dnn_test_loss = model_dnn_large.evaluate(test_features, test_labels)\n",
        "large_dnn_mae = large_dnn_test_loss\n",
        "\n",
        "print(f\"Test Mean Absolute Error (MAE) for Large DNN: {large_dnn_mae:.2f} MPG\")\n",
        "\n",
        "def plot_large_dnn_loss(history):\n",
        "    plt.plot(history.history['loss'], label='Large DNN Loss')\n",
        "    plt.xlabel('Epochs')\n",
        "    plt.ylabel('Mean Absolute Error (MPG)')\n",
        "    plt.legend()\n",
        "    plt.grid(True)\n",
        "\n",
        "plot_large_dnn_loss(large_dnn_history)"
      ]
    },
    {
      "cell_type": "markdown",
      "metadata": {
        "id": "dfMIntcJOoYe"
      },
      "source": [
        "### Explain your observation. Why do you think the large model is not performing well?\n",
        "\n",
        "- hint: when the number of trainable parameters is very large (even larger than the number of data points), the model may overfit the training data.One way to solve this problem is to use more data."
      ]
    },
    {
      "cell_type": "markdown",
      "metadata": {
        "id": "84yCsxmMOoYe"
      },
      "source": [
        "Overfitting occurs because the model has too many parameters for the dataset size.\n",
        "Test MAE does not improve much despite a larger model.\n",
        "\n",
        "Solution: Add more data or use regularization (dropout, L2)."
      ]
    }
  ],
  "metadata": {
    "accelerator": "GPU",
    "colab": {
      "gpuType": "T4",
      "provenance": []
    },
    "kernelspec": {
      "display_name": "Python 3",
      "name": "python3"
    },
    "language_info": {
      "codemirror_mode": {
        "name": "ipython",
        "version": 3
      },
      "file_extension": ".py",
      "mimetype": "text/x-python",
      "name": "python",
      "nbconvert_exporter": "python",
      "pygments_lexer": "ipython3",
      "version": "3.11.4"
    }
  },
  "nbformat": 4,
  "nbformat_minor": 0
}